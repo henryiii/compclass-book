{
 "cells": [
  {
   "cell_type": "markdown",
   "metadata": {
    "slideshow": {
     "slide_type": "slide"
    }
   },
   "source": [
    "# Python 2 versus 3\n",
    "## Henry Schreiner"
   ]
  },
  {
   "cell_type": "markdown",
   "metadata": {
    "slideshow": {
     "slide_type": "fragment"
    }
   },
   "source": [
    "Disclaimer: This notebook is going to focus on reasons to use Python 3 more than on the details of porting code. See <https://lhcb.github.io/developkit-lessons/first-development-steps/06b-python.html> for a more complete description and help porting."
   ]
  },
  {
   "cell_type": "markdown",
   "metadata": {
    "slideshow": {
     "slide_type": "slide"
    }
   },
   "source": [
    "## Unicode\n",
    "\n",
    "This is the most impactful, biggest change. All strings now default to Unicode instead of bytes. Supporting both unicode and bytes was originally a library challenge, but has mostly been solved.\n",
    "\n",
    "<font color=\"green\">\n",
    "+ Enables unicode in more places, better supported\n",
    "+ No longer dual builds of Python (wide vs. narrow)\n",
    "+ Encoding/decoding often more explicit\n",
    "+ Can use in Python 2 with `from __future__ import unicode_literals` (careful!)\n",
    "\n",
    "<font color=\"red\">\n",
    "- Was originally much slower/more memory\n",
    "- Encoding/decoding often more explicit\n"
   ]
  },
  {
   "cell_type": "markdown",
   "metadata": {
    "slideshow": {
     "slide_type": "slide"
    }
   },
   "source": [
    "## Print as a function\n",
    "\n",
    "Python 3 changed print to a function. This means even the \"Hello World\" program changed!\n",
    "\n",
    "<font color=\"green\">\n",
    "+ Can use print as a function/method name\n",
    "+ Easier redirection, ending, separator, flush\n",
    "+ Can replace print if needed\n",
    "+ Can use in Python 2 with `from __future__ import print_function`\n",
    "\n",
    "<font color=\"red\">\n",
    "- Have to type two more chars for every print\n",
    "- Lost \"soft space\" feature"
   ]
  },
  {
   "cell_type": "code",
   "execution_count": null,
   "metadata": {},
   "outputs": [],
   "source": [
    "%%python2\n",
    "print \"Hello world!\""
   ]
  },
  {
   "cell_type": "code",
   "execution_count": null,
   "metadata": {},
   "outputs": [],
   "source": [
    "print(\"Hello world!\")"
   ]
  },
  {
   "cell_type": "markdown",
   "metadata": {
    "slideshow": {
     "slide_type": "slide"
    }
   },
   "source": [
    "## Division\n",
    "\n",
    "This is the other big change for users, but was so popular, almost everyone adds `from __future__ import division`!\n",
    "\n",
    "* Division of integers with `/` now produces floats if needed.\n",
    "* Truncating division with `//` supported in Python 2 and 3."
   ]
  },
  {
   "cell_type": "code",
   "execution_count": null,
   "metadata": {},
   "outputs": [],
   "source": [
    "%%python2\n",
    "print 1/2"
   ]
  },
  {
   "cell_type": "code",
   "execution_count": null,
   "metadata": {},
   "outputs": [],
   "source": [
    "print(1/2)"
   ]
  },
  {
   "cell_type": "markdown",
   "metadata": {
    "slideshow": {
     "slide_type": "slide"
    }
   },
   "source": [
    "## Removals\n",
    "\n",
    "Python 3 removes several things that were either deprecated or in need of replacement.\n",
    "\n",
    "* Classic style classes\n",
    "* Tuple unpacking in function arguments (rarely used, replaced by new features)\n",
    "* Backticks for repr (will not be used again)\n",
    "* Comma syntax for exceptions (replaced by `as` a long time ago)\n",
    "* Removed `input`, renamed `raw_input` to `input`"
   ]
  },
  {
   "cell_type": "markdown",
   "metadata": {
    "slideshow": {
     "slide_type": "slide"
    }
   },
   "source": [
    "## Smaller changes\n",
    "\n",
    "* Import now looks for system packages first (`from __future__ import absolute_import`)\n",
    "* `exec` is a function now\n",
    "* Metaclasses have a new syntax, more options for overriding class construction\n",
    "* `nonlocal` variables added\n",
    "* Extended tuple unpacking `first, *rest = iterable`\n",
    "* Unified `int` and `long`\n",
    "* Added function annotations (and variable annotations in 3.6)\n"
   ]
  },
  {
   "cell_type": "markdown",
   "metadata": {
    "slideshow": {
     "slide_type": "slide"
    }
   },
   "source": [
    "## Other nice changes\n",
    "\n",
    "* Better tracebacks\n",
    "* Better segfault reporting\n",
    "* Better REPL (tab completion, for example)\n",
    "* "
   ]
  },
  {
   "cell_type": "markdown",
   "metadata": {
    "slideshow": {
     "slide_type": "slide"
    }
   },
   "source": [
    "## New standard libraries (with backports)\n",
    "\n",
    "* `pathlib` (`pathlib2`)\n",
    "* `enum` (`enum`)\n",
    "* `unittest.mock` (`mock`)\n",
    "* `concurrent.futures` (`futures`)\n",
    "* `statistics` (`statistics`)\n",
    "* `selectors` (`selectors34`)\n",
    "* `typing` (`typing`)\n",
    "* `asyncio` (`trollius`)\n",
    "* `dataclass` 3.7\n",
    "* `importlib.resources` (`importlib_resources`) 3.7"
   ]
  },
  {
   "cell_type": "markdown",
   "metadata": {
    "slideshow": {
     "slide_type": "slide"
    }
   },
   "source": [
    "## New features\n",
    "\n",
    "* `async` and `await` (3.5, 3.7)\n",
    "* Better unpacking (3.5)\n",
    "* Function signature objects (3.3)\n",
    "* Lots of Windows and Windows launcher improvements\n",
    "* `yield from` (3.3)\n",
    "* Added `breakpoint()` function (3.7)"
   ]
  },
  {
   "cell_type": "markdown",
   "metadata": {
    "slideshow": {
     "slide_type": "slide"
    }
   },
   "source": [
    "## New syntax: Matrix multiplication operator (3.5)\n",
    "\n",
    "A matrix multiplication operator was added: `@` (mATrix). Not used in the standard library; provided for libraries like Numpy.\n",
    "\n",
    "Before:\n",
    "```python\n",
    "S = np.dot((np.dot(H, beta) - r).T,\n",
    "           np.dot(inv(np.dot(np.dot(H, V), H.T)), np.dot(H, beta) - r))\n",
    "```\n",
    "\n",
    "After:\n",
    "```python\n",
    "S = (H @ beta - r).T @ inv(H @ V @ H.T) @ (H @ beta - r)\n",
    "```"
   ]
  },
  {
   "cell_type": "markdown",
   "metadata": {
    "slideshow": {
     "slide_type": "slide"
    }
   },
   "source": [
    "## New syntax: Formatted string literals (3.6)\n",
    "\n",
    "Adding an `f` to the front of a string allows most valid Python to be interpolated inside `{}`s."
   ]
  },
  {
   "cell_type": "code",
   "execution_count": null,
   "metadata": {},
   "outputs": [],
   "source": [
    "print(f\"1 + 2 = {1+2}\")"
   ]
  },
  {
   "cell_type": "markdown",
   "metadata": {
    "slideshow": {
     "slide_type": "slide"
    }
   },
   "source": [
    "## Ordered dictionaries (3.6)\n",
    "\n",
    "Dictionaries in CPython since 3.6 (official language specification in 3.7) are now faster and ordered! This affects normal dictionaries, keyword arguments, and class ordering."
   ]
  },
  {
   "cell_type": "code",
   "execution_count": null,
   "metadata": {},
   "outputs": [],
   "source": [
    "a = {'b': None, 'a': None, 'c': None}\n",
    "print(list(a))"
   ]
  },
  {
   "cell_type": "code",
   "execution_count": null,
   "metadata": {},
   "outputs": [],
   "source": [
    "%%python2\n",
    "a = {'b': None, 'a': None, 'c': None}\n",
    "print(list(a))"
   ]
  }
 ],
 "metadata": {
  "kernelspec": {
   "display_name": "Anaconda Python 3.6",
   "language": "python",
   "name": "sys_python36"
  },
  "language_info": {
   "codemirror_mode": {
    "name": "ipython",
    "version": 3
   },
   "file_extension": ".py",
   "mimetype": "text/x-python",
   "name": "python",
   "nbconvert_exporter": "python",
   "pygments_lexer": "ipython3",
   "version": "3.6.5"
  }
 },
 "nbformat": 4,
 "nbformat_minor": 2
}
