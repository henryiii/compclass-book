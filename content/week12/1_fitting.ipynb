{
 "cells": [
  {
   "cell_type": "markdown",
   "metadata": {},
   "source": [
    "# Week 12 Day 1: Requested topic: Fitting\n",
    "\n",
    "## Objectives:\n",
    "* Cover performance and syntax for general unbinned fitting."
   ]
  },
  {
   "cell_type": "markdown",
   "metadata": {},
   "source": [
    "Remember to `pip install probfit` (`--user` if you are not in a virtual environment). `cupy` is used at the end; you'll need `conda install cupy` in an environment. Times are from a 24 core Xeon with a Titan V."
   ]
  },
  {
   "cell_type": "markdown",
   "metadata": {},
   "source": [
    "We will put our preperation code in a file, and restart the kernel as we go, just to make sure we don't have any interaction between GPU libraries. `likelyhood_answer` is defined to be the numpy value - Note that the reduction can produce lots of round of error if not done properly. I know numpy does, not sure about probfit."
   ]
  },
  {
   "cell_type": "markdown",
   "metadata": {},
   "source": [
    "#### Results: \n",
    "    \n",
    "| Package   | Hardware      | Time per call | Minimize time |\n",
    "|-----------|---------------|---------------|---------------|\n",
    "| Probfit   | 24 core Zeon  | 1.11 s        | 2.23 min      |\n",
    "| Numpy     | 24 core Zeon  | 21.1 ms       | 2.38 s        |\n",
    "| Numba parallel | 24 core Zeon | 11.5 ms   | 1.46 s        |\n",
    "| Numba parallel loop | 24 core Zeon | 3.68 ms | 416 ms     |\n",
    "| GooFit    | Titan V       | 2.30 ms       | 333 ms        |\n",
    "| CUPY      | Titan V       | 2.9 ms        | 491 ms        |\n",
    "| CUPY kernel | Titan V     | 843 µs        | 118 ms        |\n",
    "| CUPY redu | Titan V       | 2.50 ms       | 343 ms        |\n",
    "| PyTorch   | Titan V       | 3.68 ms       | 594 ms        |\n",
    "| TensorFlow static | Titan V | 1.38 ms     | 225 ms        |\n"
   ]
  },
  {
   "cell_type": "code",
   "execution_count": 1,
   "metadata": {},
   "outputs": [
    {
     "data": {
      "text/html": [
       "<style type=\"text/css\">.highlight .hll { background-color: #ffffcc }\n",
       ".highlight  { background: #f8f8f8; }\n",
       ".highlight .c { color: #408080; font-style: italic } /* Comment */\n",
       ".highlight .err { border: 1px solid #FF0000 } /* Error */\n",
       ".highlight .k { color: #008000; font-weight: bold } /* Keyword */\n",
       ".highlight .o { color: #666666 } /* Operator */\n",
       ".highlight .ch { color: #408080; font-style: italic } /* Comment.Hashbang */\n",
       ".highlight .cm { color: #408080; font-style: italic } /* Comment.Multiline */\n",
       ".highlight .cp { color: #BC7A00 } /* Comment.Preproc */\n",
       ".highlight .cpf { color: #408080; font-style: italic } /* Comment.PreprocFile */\n",
       ".highlight .c1 { color: #408080; font-style: italic } /* Comment.Single */\n",
       ".highlight .cs { color: #408080; font-style: italic } /* Comment.Special */\n",
       ".highlight .gd { color: #A00000 } /* Generic.Deleted */\n",
       ".highlight .ge { font-style: italic } /* Generic.Emph */\n",
       ".highlight .gr { color: #FF0000 } /* Generic.Error */\n",
       ".highlight .gh { color: #000080; font-weight: bold } /* Generic.Heading */\n",
       ".highlight .gi { color: #00A000 } /* Generic.Inserted */\n",
       ".highlight .go { color: #888888 } /* Generic.Output */\n",
       ".highlight .gp { color: #000080; font-weight: bold } /* Generic.Prompt */\n",
       ".highlight .gs { font-weight: bold } /* Generic.Strong */\n",
       ".highlight .gu { color: #800080; font-weight: bold } /* Generic.Subheading */\n",
       ".highlight .gt { color: #0044DD } /* Generic.Traceback */\n",
       ".highlight .kc { color: #008000; font-weight: bold } /* Keyword.Constant */\n",
       ".highlight .kd { color: #008000; font-weight: bold } /* Keyword.Declaration */\n",
       ".highlight .kn { color: #008000; font-weight: bold } /* Keyword.Namespace */\n",
       ".highlight .kp { color: #008000 } /* Keyword.Pseudo */\n",
       ".highlight .kr { color: #008000; font-weight: bold } /* Keyword.Reserved */\n",
       ".highlight .kt { color: #B00040 } /* Keyword.Type */\n",
       ".highlight .m { color: #666666 } /* Literal.Number */\n",
       ".highlight .s { color: #BA2121 } /* Literal.String */\n",
       ".highlight .na { color: #7D9029 } /* Name.Attribute */\n",
       ".highlight .nb { color: #008000 } /* Name.Builtin */\n",
       ".highlight .nc { color: #0000FF; font-weight: bold } /* Name.Class */\n",
       ".highlight .no { color: #880000 } /* Name.Constant */\n",
       ".highlight .nd { color: #AA22FF } /* Name.Decorator */\n",
       ".highlight .ni { color: #999999; font-weight: bold } /* Name.Entity */\n",
       ".highlight .ne { color: #D2413A; font-weight: bold } /* Name.Exception */\n",
       ".highlight .nf { color: #0000FF } /* Name.Function */\n",
       ".highlight .nl { color: #A0A000 } /* Name.Label */\n",
       ".highlight .nn { color: #0000FF; font-weight: bold } /* Name.Namespace */\n",
       ".highlight .nt { color: #008000; font-weight: bold } /* Name.Tag */\n",
       ".highlight .nv { color: #19177C } /* Name.Variable */\n",
       ".highlight .ow { color: #AA22FF; font-weight: bold } /* Operator.Word */\n",
       ".highlight .w { color: #bbbbbb } /* Text.Whitespace */\n",
       ".highlight .mb { color: #666666 } /* Literal.Number.Bin */\n",
       ".highlight .mf { color: #666666 } /* Literal.Number.Float */\n",
       ".highlight .mh { color: #666666 } /* Literal.Number.Hex */\n",
       ".highlight .mi { color: #666666 } /* Literal.Number.Integer */\n",
       ".highlight .mo { color: #666666 } /* Literal.Number.Oct */\n",
       ".highlight .sa { color: #BA2121 } /* Literal.String.Affix */\n",
       ".highlight .sb { color: #BA2121 } /* Literal.String.Backtick */\n",
       ".highlight .sc { color: #BA2121 } /* Literal.String.Char */\n",
       ".highlight .dl { color: #BA2121 } /* Literal.String.Delimiter */\n",
       ".highlight .sd { color: #BA2121; font-style: italic } /* Literal.String.Doc */\n",
       ".highlight .s2 { color: #BA2121 } /* Literal.String.Double */\n",
       ".highlight .se { color: #BB6622; font-weight: bold } /* Literal.String.Escape */\n",
       ".highlight .sh { color: #BA2121 } /* Literal.String.Heredoc */\n",
       ".highlight .si { color: #BB6688; font-weight: bold } /* Literal.String.Interpol */\n",
       ".highlight .sx { color: #008000 } /* Literal.String.Other */\n",
       ".highlight .sr { color: #BB6688 } /* Literal.String.Regex */\n",
       ".highlight .s1 { color: #BA2121 } /* Literal.String.Single */\n",
       ".highlight .ss { color: #19177C } /* Literal.String.Symbol */\n",
       ".highlight .bp { color: #008000 } /* Name.Builtin.Pseudo */\n",
       ".highlight .fm { color: #0000FF } /* Name.Function.Magic */\n",
       ".highlight .vc { color: #19177C } /* Name.Variable.Class */\n",
       ".highlight .vg { color: #19177C } /* Name.Variable.Global */\n",
       ".highlight .vi { color: #19177C } /* Name.Variable.Instance */\n",
       ".highlight .vm { color: #19177C } /* Name.Variable.Magic */\n",
       ".highlight .il { color: #666666 } /* Literal.Number.Integer.Long */</style><div class=\"highlight\"><pre><span></span><span class=\"kn\">import</span> <span class=\"nn\">numpy</span> <span class=\"kn\">as</span> <span class=\"nn\">np</span>\n",
       "<span class=\"kn\">from</span> <span class=\"nn\">iminuit</span> <span class=\"kn\">import</span> <span class=\"n\">Minuit</span>\n",
       "<span class=\"kn\">import</span> <span class=\"nn\">math</span>\n",
       "\n",
       "<span class=\"n\">np</span><span class=\"o\">.</span><span class=\"n\">random</span><span class=\"o\">.</span><span class=\"n\">seed</span><span class=\"p\">(</span><span class=\"mi\">42</span><span class=\"p\">)</span>\n",
       "\n",
       "<span class=\"n\">dist</span> <span class=\"o\">=</span> <span class=\"n\">np</span><span class=\"o\">.</span><span class=\"n\">hstack</span><span class=\"p\">([</span>\n",
       "    <span class=\"n\">np</span><span class=\"o\">.</span><span class=\"n\">random</span><span class=\"o\">.</span><span class=\"n\">normal</span><span class=\"p\">(</span><span class=\"n\">loc</span><span class=\"o\">=</span><span class=\"mi\">1</span><span class=\"p\">,</span> <span class=\"n\">scale</span><span class=\"o\">=</span><span class=\"mf\">2.</span><span class=\"p\">,</span> <span class=\"n\">size</span><span class=\"o\">=</span><span class=\"mi\">500</span><span class=\"n\">_000</span><span class=\"p\">),</span>\n",
       "    <span class=\"n\">np</span><span class=\"o\">.</span><span class=\"n\">random</span><span class=\"o\">.</span><span class=\"n\">normal</span><span class=\"p\">(</span><span class=\"n\">loc</span><span class=\"o\">=</span><span class=\"mi\">1</span><span class=\"p\">,</span> <span class=\"n\">scale</span><span class=\"o\">=.</span><span class=\"mi\">5</span><span class=\"p\">,</span> <span class=\"n\">size</span><span class=\"o\">=</span><span class=\"mi\">500</span><span class=\"n\">_000</span><span class=\"p\">)</span>\n",
       "<span class=\"p\">])</span>\n",
       "\n",
       "<span class=\"n\">default_params</span> <span class=\"o\">=</span> <span class=\"nb\">dict</span><span class=\"p\">(</span>\n",
       "    <span class=\"n\">f_0</span><span class=\"o\">=.</span><span class=\"mi\">5</span><span class=\"p\">,</span>\n",
       "    <span class=\"n\">error_f_0</span><span class=\"o\">=.</span><span class=\"mo\">01</span><span class=\"p\">,</span>\n",
       "    <span class=\"n\">limit_f_0</span><span class=\"o\">=</span><span class=\"p\">(</span><span class=\"mi\">0</span><span class=\"p\">,</span><span class=\"mi\">1</span><span class=\"p\">),</span>\n",
       "\n",
       "    <span class=\"n\">mean</span><span class=\"o\">=</span><span class=\"mf\">1.5</span><span class=\"p\">,</span>\n",
       "    <span class=\"n\">error_mean</span><span class=\"o\">=.</span><span class=\"mo\">01</span><span class=\"p\">,</span>\n",
       "    <span class=\"n\">limit_mean</span><span class=\"o\">=</span><span class=\"p\">(</span><span class=\"o\">-</span><span class=\"mi\">10</span><span class=\"p\">,</span><span class=\"mi\">10</span><span class=\"p\">),</span>\n",
       "\n",
       "    <span class=\"n\">sigma</span><span class=\"o\">=.</span><span class=\"mi\">4</span><span class=\"p\">,</span>\n",
       "    <span class=\"n\">limit_sigma</span><span class=\"o\">=</span><span class=\"p\">(</span><span class=\"mi\">0</span><span class=\"p\">,</span><span class=\"mi\">1</span><span class=\"p\">),</span>\n",
       "    <span class=\"n\">error_sigma</span><span class=\"o\">=.</span><span class=\"mo\">01</span><span class=\"p\">,</span>\n",
       "\n",
       "    <span class=\"n\">sigma2</span><span class=\"o\">=</span><span class=\"mf\">3.</span><span class=\"p\">,</span>\n",
       "    <span class=\"n\">error_sigma2</span><span class=\"o\">=.</span><span class=\"mo\">01</span><span class=\"p\">,</span>\n",
       "    <span class=\"n\">limit_sigma2</span><span class=\"o\">=</span><span class=\"p\">(</span><span class=\"mi\">1</span><span class=\"p\">,</span><span class=\"mi\">3</span><span class=\"p\">),</span>\n",
       "<span class=\"p\">)</span>\n",
       "\n",
       "\n",
       "<span class=\"k\">class</span> <span class=\"nc\">Compare</span><span class=\"p\">:</span>\n",
       "    <span class=\"k\">def</span> <span class=\"fm\">__init__</span><span class=\"p\">(</span><span class=\"bp\">self</span><span class=\"p\">,</span> <span class=\"n\">value</span><span class=\"p\">):</span>\n",
       "        <span class=\"bp\">self</span><span class=\"o\">.</span><span class=\"n\">value</span> <span class=\"o\">=</span> <span class=\"n\">value</span>\n",
       "        \n",
       "    <span class=\"k\">def</span> <span class=\"fm\">__eq__</span><span class=\"p\">(</span><span class=\"bp\">self</span><span class=\"p\">,</span> <span class=\"n\">other</span><span class=\"p\">):</span>\n",
       "        <span class=\"k\">if</span> <span class=\"n\">other</span> <span class=\"o\">==</span> <span class=\"bp\">self</span><span class=\"o\">.</span><span class=\"n\">value</span><span class=\"p\">:</span>\n",
       "            <span class=\"k\">return</span> <span class=\"bp\">True</span>\n",
       "        \n",
       "        <span class=\"n\">frac</span> <span class=\"o\">=</span> <span class=\"nb\">abs</span><span class=\"p\">(</span><span class=\"n\">other</span> <span class=\"o\">-</span> <span class=\"bp\">self</span><span class=\"o\">.</span><span class=\"n\">value</span><span class=\"p\">)</span> <span class=\"o\">/</span> <span class=\"bp\">self</span><span class=\"o\">.</span><span class=\"n\">value</span>\n",
       "        <span class=\"k\">print</span><span class=\"p\">(</span><span class=\"n\">f</span><span class=\"s1\">&#39;Missed by: {frac:.3}&#39;</span><span class=\"p\">)</span>\n",
       "        <span class=\"k\">return</span> <span class=\"n\">frac</span> <span class=\"o\">&lt;</span> <span class=\"o\">.</span><span class=\"mo\">00001</span>\n",
       "\n",
       "<span class=\"n\">likelyhood_answer</span> <span class=\"o\">=</span> <span class=\"n\">Compare</span><span class=\"p\">(</span><span class=\"mf\">4976157.922404283</span><span class=\"p\">)</span>\n",
       "\n",
       "<span class=\"k\">def</span> <span class=\"nf\">run_and_print</span><span class=\"p\">(</span><span class=\"n\">minuit</span><span class=\"p\">):</span>\n",
       "    <span class=\"n\">minuit</span><span class=\"o\">.</span><span class=\"n\">print_level</span><span class=\"o\">=</span><span class=\"mi\">0</span>\n",
       "    <span class=\"n\">a</span><span class=\"p\">,</span><span class=\"n\">b</span> <span class=\"o\">=</span> <span class=\"n\">minuit</span><span class=\"o\">.</span><span class=\"n\">migrad</span><span class=\"p\">()</span>\n",
       "    <span class=\"k\">print</span><span class=\"p\">(</span><span class=\"s2\">&quot;FCN: {nfcn}</span><span class=\"se\">\\n</span><span class=\"s2\">is_valid: {is_valid}</span><span class=\"se\">\\n</span><span class=\"s2\">fval: {fval}</span><span class=\"se\">\\n</span><span class=\"s2\">edm: {edm}</span><span class=\"se\">\\n</span><span class=\"s2\">&quot;</span><span class=\"o\">.</span><span class=\"n\">format</span><span class=\"p\">(</span><span class=\"o\">**</span><span class=\"n\">a</span><span class=\"p\">))</span>\n",
       "</pre></div>\n"
      ]
     },
     "metadata": {},
     "output_type": "display_data"
    }
   ],
   "source": [
    "from read_pretty import read_pretty\n",
    "read_pretty('common.py')"
   ]
  },
  {
   "cell_type": "markdown",
   "metadata": {},
   "source": [
    "## Make data\n",
    "\n",
    "First, we make our data. It's a simple double gaussian with no background."
   ]
  },
  {
   "cell_type": "code",
   "execution_count": 2,
   "metadata": {},
   "outputs": [],
   "source": [
    "%run common.py"
   ]
  },
  {
   "cell_type": "code",
   "execution_count": 3,
   "metadata": {},
   "outputs": [],
   "source": [
    "import matplotlib.pyplot as plt"
   ]
  },
  {
   "cell_type": "code",
   "execution_count": 4,
   "metadata": {},
   "outputs": [
    {
     "data": {
      "image/png": "[encoded data removed]",
      "text/plain": [
       "<Figure size 432x288 with 1 Axes>"
      ]
     },
     "metadata": {},
     "output_type": "display_data"
    }
   ],
   "source": [
    "plt.hist(dist, bins='auto');"
   ]
  },
  {
   "cell_type": "markdown",
   "metadata": {},
   "source": [
    "## Probfit\n",
    "\n",
    "Now, let's try using probfit to fit the data. First, we have to rename the parameters - probfit merges similar named parameters. I already know that gaussian comes with `x`, `mean`, and `sigma`. We use `AddPdfNorm` to add the pdfs, and they are kept normalized. A new parameter is added, `f_0`."
   ]
  },
  {
   "cell_type": "code",
   "execution_count": 5,
   "metadata": {},
   "outputs": [],
   "source": [
    "import probfit"
   ]
  },
  {
   "cell_type": "code",
   "execution_count": 6,
   "metadata": {},
   "outputs": [],
   "source": [
    "second_gaussian = probfit.rename(probfit.gaussian, [\"x\", \"mean\", \"sigma2\"])\n",
    "pdf_function = probfit.AddPdfNorm(probfit.gaussian, second_gaussian)"
   ]
  },
  {
   "cell_type": "markdown",
   "metadata": {},
   "source": [
    "Now, let's build an unbinned likelyhood function:"
   ]
  },
  {
   "cell_type": "code",
   "execution_count": 7,
   "metadata": {},
   "outputs": [],
   "source": [
    "unbinned_lh = probfit.UnbinnedLH(pdf_function, dist)"
   ]
  },
  {
   "cell_type": "code",
   "execution_count": 8,
   "metadata": {},
   "outputs": [
    {
     "name": "stdout",
     "output_type": "stream",
     "text": [
      "Missed by: 1.7e-14\n"
     ]
    }
   ],
   "source": [
    "assert unbinned_lh(.5,.5,.5,.5) == likelyhood_answer"
   ]
  },
  {
   "cell_type": "code",
   "execution_count": 9,
   "metadata": {},
   "outputs": [
    {
     "name": "stdout",
     "output_type": "stream",
     "text": [
      "1.11 s ± 78 ms per loop (mean ± std. dev. of 7 runs, 1 loop each)\n"
     ]
    }
   ],
   "source": [
    "%%timeit\n",
    "unbinned_lh(*np.random.rand(4))"
   ]
  },
  {
   "cell_type": "markdown",
   "metadata": {},
   "source": [
    "We have to use iMinuit's name based parameter setting interface:"
   ]
  },
  {
   "cell_type": "code",
   "execution_count": 10,
   "metadata": {},
   "outputs": [],
   "source": [
    "minuit = Minuit(unbinned_lh, **default_params)"
   ]
  },
  {
   "cell_type": "markdown",
   "metadata": {},
   "source": [
    "And let's do the fit!"
   ]
  },
  {
   "cell_type": "code",
   "execution_count": 11,
   "metadata": {},
   "outputs": [
    {
     "name": "stdout",
     "output_type": "stream",
     "text": [
      "FCN: 136\n",
      "is_valid: True\n",
      "fval: 1672956.6975332375\n",
      "edm: 1.8438039152750956e-05\n",
      "\n",
      "CPU times: user 2min 24s, sys: 807 ms, total: 2min 24s\n",
      "Wall time: 2min 23s\n"
     ]
    }
   ],
   "source": [
    "%%time\n",
    "run_and_print(minuit)"
   ]
  },
  {
   "cell_type": "code",
   "execution_count": 12,
   "metadata": {},
   "outputs": [
    {
     "data": {
      "image/png": "[encoded data removed]",
      "text/plain": [
       "<Figure size 432x288 with 1 Axes>"
      ]
     },
     "metadata": {},
     "output_type": "display_data"
    }
   ],
   "source": [
    "unbinned_lh.draw(minuit);"
   ]
  },
  {
   "cell_type": "code",
   "execution_count": null,
   "metadata": {},
   "outputs": [],
   "source": [
    "exit()"
   ]
  },
  {
   "cell_type": "markdown",
   "metadata": {},
   "source": [
    "## GooFit\n",
    "\n",
    "Let's try that in GooFit. We set up our model in what I view as a more readable but more verbose way:"
   ]
  },
  {
   "cell_type": "code",
   "execution_count": 5,
   "metadata": {},
   "outputs": [],
   "source": [
    "%run common.py"
   ]
  },
  {
   "cell_type": "code",
   "execution_count": 6,
   "metadata": {},
   "outputs": [],
   "source": [
    "import goofit"
   ]
  },
  {
   "cell_type": "code",
   "execution_count": 7,
   "metadata": {},
   "outputs": [
    {
     "data": {
      "text/plain": [
       "'CUDA'"
      ]
     },
     "execution_count": 7,
     "metadata": {},
     "output_type": "execute_result"
    }
   ],
   "source": [
    "goofit.GOOFIT_DEVICE"
   ]
  },
  {
   "cell_type": "code",
   "execution_count": 8,
   "metadata": {},
   "outputs": [
    {
     "name": "stdout",
     "output_type": "stream",
     "text": [
      "\u001b[37m\u001b[1mMnSeedGenerator: for initial parameters FCN = 3874835.510745\n",
      "MnSeedGenerator: Initial state:   - FCN =   3874835.510745 Edm =       744932 NCalls =     19\n",
      "MnSeedGenerator: Negative G2 found - new state:   - FCN =   3735439.992451 Edm =       712480 NCalls =     44\n",
      "VariableMetric: start iterating until Edm is < 0.0001\n",
      "VariableMetric: Initial state   - FCN =   3735439.992451 Edm =       712480 NCalls =     44\n",
      "VariableMetric: Iteration #   0 - FCN =   3735439.992451 Edm =       712480 NCalls =     44\n",
      "VariableMetric: Iteration #   1 - FCN =   3365672.041955 Edm =      20560.4 NCalls =     56\n",
      "VariableMetric: Iteration #   2 - FCN =   3351286.807413 Edm =      3712.53 NCalls =     66\n",
      "VariableMetric: Iteration #   3 - FCN =   3346224.031665 Edm =      290.217 NCalls =     76\n",
      "VariableMetric: Iteration #   4 - FCN =   3345976.094246 Edm =      22.4637 NCalls =     86\n",
      "VariableMetric: Iteration #   5 - FCN =   3345892.605172 Edm =       3.8225 NCalls =     96\n",
      "VariableMetric: Iteration #   6 - FCN =   3345887.959668 Edm =   0.00383132 NCalls =    106\n",
      "VariableMetric: Iteration #   7 - FCN =   3345887.956199 Edm =   3.4033e-06 NCalls =    116\n",
      "VariableMetric: After Hessian   - FCN =   3345887.956199 Edm =   6.3729e-06 NCalls =    145\n",
      "VariableMetric: Iteration #   8 - FCN =   3345887.956199 Edm =   6.3729e-06 NCalls =    145\n",
      "\u001b[0m\u001b[32m\n",
      "Minuit did successfully converge.\n",
      "# of function calls: 145\n",
      "minimum function Value: 3345887.956199\n",
      "minimum edm: 6.372903302792e-06\n",
      "minimum internal state vector: LAVector parameters:\n",
      "  -0.001982099827992\n",
      "     0.1000580006389\n",
      "  -0.001697590764306\n",
      " -0.0007592706638429\n",
      "\n",
      "minimum internal covariance matrix: LASymMatrix parameters:\n",
      "  4.6329523e-06   -5.04376e-10  2.6759732e-06  3.0630683e-06\n",
      "   -5.04376e-10   7.932709e-09 -6.3590735e-10 -3.1439813e-10\n",
      "  2.6759732e-06 -6.3590735e-10  4.3480155e-06  2.0847795e-06\n",
      "  3.0630683e-06 -3.1439813e-10  2.0847795e-06  6.5938869e-06\n",
      "\n",
      "\n",
      "# ext. ||   Name    ||   type  ||     Value     ||  Error +/- \n",
      "\n",
      "   0   ||       f_0 || limited ||     0.4990089507349 ||0.0007609969210436\n",
      "   1   ||      mean || limited ||     0.9989112735614 ||0.000626640028246\n",
      "   2   ||     sigma || limited ||     0.4991512050255 ||0.0007372245084616\n",
      "   3   ||    sigma2 || limited ||      1.999240729409 ||0.001815747212224\n",
      "\n",
      "\n",
      "\n",
      "\n",
      "\u001b[0m\u001b[35mThe minimization took: 323.45 ms\n",
      "Average time per call: 2.2354 ms\u001b[0m\n"
     ]
    }
   ],
   "source": [
    "x = goofit.Observable('x', -10, 10)\n",
    "\n",
    "ds = goofit.UnbinnedDataSet(x)\n",
    "ds.from_matrix([dist], filter=True)\n",
    "\n",
    "mean = goofit.Variable('mean', 1.5, -10, 10)\n",
    "sigma = goofit.Variable('sigma', .4, 0, 1)\n",
    "sigma2 = goofit.Variable('sigma2', 3, 1, 3)\n",
    "f_0 = goofit.Variable('f_0', .5, 0, 1)\n",
    "\n",
    "gauss1 = goofit.GaussianPdf(\"gauss1\", x, mean, sigma)\n",
    "gauss2 = goofit.GaussianPdf(\"gauss2\", x, mean, sigma2)\n",
    "\n",
    "pdf = goofit.AddPdf('pdf', [f_0], [gauss1, gauss2])\n",
    "\n",
    "pdf.fitTo(ds);"
   ]
  },
  {
   "cell_type": "markdown",
   "metadata": {},
   "source": [
    "> Note: On a single thread CPU build, this is about 7-10x faster than probfit. This is on a Titan V GPU, so it's a lot more than that.\n",
    "\n",
    "Plotting is a bit more verbose, but not too bad:"
   ]
  },
  {
   "cell_type": "code",
   "execution_count": 16,
   "metadata": {},
   "outputs": [],
   "source": [
    "grid, points = pdf.evaluatePdf(x)\n",
    "xs = grid.to_matrix().flatten()"
   ]
  },
  {
   "cell_type": "code",
   "execution_count": 17,
   "metadata": {},
   "outputs": [
    {
     "data": {
      "image/png": "[encoded data removed]",
      "text/plain": [
       "<Figure size 576x216 with 1 Axes>"
      ]
     },
     "metadata": {},
     "output_type": "display_data"
    }
   ],
   "source": [
    "fig, ax = plt.subplots(figsize=(8,3))\n",
    "ax.plot(xs, points)\n",
    "ax.hist(dist, bins='auto', density=True)\n",
    "plt.show()"
   ]
  },
  {
   "cell_type": "code",
   "execution_count": 9,
   "metadata": {},
   "outputs": [],
   "source": [
    "exit()"
   ]
  },
  {
   "cell_type": "markdown",
   "metadata": {},
   "source": [
    "## Numpy\n",
    "\n",
    "Let's try this with Numpy and iMinuit. We could use probfit to make the NLL, but it's much faster to do it ourselves."
   ]
  },
  {
   "cell_type": "code",
   "execution_count": 1,
   "metadata": {},
   "outputs": [],
   "source": [
    "%run common.py"
   ]
  },
  {
   "cell_type": "markdown",
   "metadata": {},
   "source": [
    "#### Note:\n",
    "I originally used numba here, but since this is all done in array form, even parallel Numba is only a small fraction (10-30%) faster on my laptop. On a 24 core Xeon, however... You'll see."
   ]
  },
  {
   "cell_type": "code",
   "execution_count": 2,
   "metadata": {},
   "outputs": [],
   "source": [
    "def gaussian(x, μ, σ):\n",
    "    return 1/np.sqrt(2*np.pi*σ**2) * np.exp(-(x-μ)**2/(2*σ**2))"
   ]
  },
  {
   "cell_type": "code",
   "execution_count": 3,
   "metadata": {},
   "outputs": [],
   "source": [
    "def add(x, f_0, mean, sigma, sigma2):\n",
    "    return f_0 * gaussian(x, mean, sigma) + (1 - f_0) * gaussian(x, mean, sigma2)"
   ]
  },
  {
   "cell_type": "code",
   "execution_count": 4,
   "metadata": {},
   "outputs": [],
   "source": [
    "def nll(f_0, mean, sigma, sigma2):\n",
    "    return -np.sum(np.log(add(dist, f_0, mean, sigma, sigma2)))"
   ]
  },
  {
   "cell_type": "code",
   "execution_count": 5,
   "metadata": {},
   "outputs": [
    {
     "name": "stdout",
     "output_type": "stream",
     "text": [
      "Missed by: 9.36e-16\n"
     ]
    }
   ],
   "source": [
    "assert nll(.5,.5,.5,.5) == likelyhood_answer"
   ]
  },
  {
   "cell_type": "markdown",
   "metadata": {},
   "source": [
    "Note that Numpy uses a good definition of a sum, while Python's built in sum has rounding point errors. This would be more important if we used fewer bits. Let's compare: "
   ]
  },
  {
   "cell_type": "code",
   "execution_count": 6,
   "metadata": {},
   "outputs": [
    {
     "name": "stdout",
     "output_type": "stream",
     "text": [
      "Missed by: 1.7e-14\n"
     ]
    }
   ],
   "source": [
    "# Check reduction sum:\n",
    "assert -sum(np.log(add(dist, .5, .5, .5, .5))) == likelyhood_answer"
   ]
  },
  {
   "cell_type": "code",
   "execution_count": 7,
   "metadata": {},
   "outputs": [],
   "source": [
    "# Check floating point accurate sum:\n",
    "assert -math.fsum(np.log(add(dist, .5, .5, .5, .5))) == likelyhood_answer"
   ]
  },
  {
   "cell_type": "code",
   "execution_count": 8,
   "metadata": {},
   "outputs": [
    {
     "name": "stderr",
     "output_type": "stream",
     "text": [
      "/opt/anaconda/lib/python3.6/site-packages/ipykernel_launcher.py:2: RuntimeWarning: divide by zero encountered in log\n",
      "  \n"
     ]
    },
    {
     "name": "stdout",
     "output_type": "stream",
     "text": [
      "21.1 ms ± 1.61 ms per loop (mean ± std. dev. of 7 runs, 10 loops each)\n"
     ]
    }
   ],
   "source": [
    "%%timeit\n",
    "nll(*np.random.rand(4))"
   ]
  },
  {
   "cell_type": "code",
   "execution_count": 9,
   "metadata": {},
   "outputs": [],
   "source": [
    "minuit = Minuit(nll,\n",
    "                errordef=1,\n",
    "                **default_params)"
   ]
  },
  {
   "cell_type": "code",
   "execution_count": 10,
   "metadata": {},
   "outputs": [
    {
     "name": "stdout",
     "output_type": "stream",
     "text": [
      "FCN: 137\n",
      "is_valid: True\n",
      "fval: 1672956.6975178656\n",
      "edm: 3.092553415281103e-06\n",
      "\n",
      "CPU times: user 51.5 s, sys: 5.73 s, total: 57.2 s\n",
      "Wall time: 2.38 s\n"
     ]
    }
   ],
   "source": [
    "%%time\n",
    "run_and_print(minuit)"
   ]
  },
  {
   "cell_type": "code",
   "execution_count": 11,
   "metadata": {},
   "outputs": [],
   "source": [
    "# Much (2-3x) slower if we use this in Minuit\n",
    "# unbinned_lh = probfit.UnbinnedLH(add, dist)"
   ]
  },
  {
   "cell_type": "markdown",
   "metadata": {},
   "source": [
    "## Numba\n",
    "\n",
    "Let's use Numba's parallel abilities:"
   ]
  },
  {
   "cell_type": "code",
   "execution_count": 3,
   "metadata": {},
   "outputs": [],
   "source": [
    "import numba"
   ]
  },
  {
   "cell_type": "code",
   "execution_count": 12,
   "metadata": {},
   "outputs": [],
   "source": [
    "@numba.njit(parallel=True)\n",
    "def gaussian(x, μ, σ):\n",
    "    return 1/np.sqrt(2*np.pi*σ**2) * np.exp(-(x-μ)**2/(2*σ**2))"
   ]
  },
  {
   "cell_type": "code",
   "execution_count": 13,
   "metadata": {},
   "outputs": [],
   "source": [
    "@numba.njit(parallel=True)\n",
    "def add(x, f_0, mean, sigma, sigma2):\n",
    "    return f_0 * gaussian(x, mean, sigma) + (1 - f_0) * gaussian(x, mean, sigma2)"
   ]
  },
  {
   "cell_type": "code",
   "execution_count": 14,
   "metadata": {},
   "outputs": [],
   "source": [
    "@numba.njit(parallel=True)\n",
    "def nll(f_0, mean, sigma, sigma2):\n",
    "    return -np.sum(np.log(add(dist, f_0, mean, sigma, sigma2)))"
   ]
  },
  {
   "cell_type": "code",
   "execution_count": 15,
   "metadata": {},
   "outputs": [
    {
     "name": "stdout",
     "output_type": "stream",
     "text": [
      "Missed by: 5.61e-16\n"
     ]
    }
   ],
   "source": [
    "assert nll(.5,.5,.5,.5) == likelyhood_answer"
   ]
  },
  {
   "cell_type": "code",
   "execution_count": 16,
   "metadata": {},
   "outputs": [
    {
     "name": "stdout",
     "output_type": "stream",
     "text": [
      "11.5 ms ± 1.8 ms per loop (mean ± std. dev. of 7 runs, 100 loops each)\n"
     ]
    }
   ],
   "source": [
    "%%timeit\n",
    "nll(*np.random.rand(4))"
   ]
  },
  {
   "cell_type": "code",
   "execution_count": 17,
   "metadata": {},
   "outputs": [],
   "source": [
    "minuit = Minuit(nll,\n",
    "                errordef=1,\n",
    "                **default_params)"
   ]
  },
  {
   "cell_type": "code",
   "execution_count": 18,
   "metadata": {},
   "outputs": [
    {
     "name": "stdout",
     "output_type": "stream",
     "text": [
      "FCN: 137\n",
      "is_valid: True\n",
      "fval: 1672956.6975178658\n",
      "edm: 3.0927053268030814e-06\n",
      "\n",
      "CPU times: user 55.7 s, sys: 12.5 s, total: 1min 8s\n",
      "Wall time: 1.46 s\n"
     ]
    }
   ],
   "source": [
    "%%time\n",
    "run_and_print(minuit)"
   ]
  },
  {
   "cell_type": "markdown",
   "metadata": {},
   "source": [
    "#### Numba Parallel loop"
   ]
  },
  {
   "cell_type": "code",
   "execution_count": 8,
   "metadata": {},
   "outputs": [],
   "source": [
    "@numba.jit\n",
    "def gaussian(x, μ, σ):\n",
    "    return 1/np.sqrt(2*np.pi*σ**2) * np.exp(-(x-μ)**2/(2*σ**2))\n",
    "\n",
    "@numba.jit\n",
    "def add(x, f_0, mean, sigma, sigma2):\n",
    "    return f_0 * gaussian(x, mean, sigma) + (1 - f_0) * gaussian(x, mean, sigma2)\n",
    "\n",
    "@numba.njit(parallel=True)\n",
    "def nllp(dist, f_0, mean, sigma, sigma2):\n",
    "    s = 0.0\n",
    "    for i in numba.prange(len(dist)):\n",
    "        s +=  np.log(add(dist[i], f_0, mean, sigma, sigma2))\n",
    "    return -s\n",
    "    \n",
    "def nll(f_0, mean, sigma, sigma2):\n",
    "    return nllp(dist, f_0, mean, sigma, sigma2)"
   ]
  },
  {
   "cell_type": "code",
   "execution_count": 9,
   "metadata": {},
   "outputs": [
    {
     "name": "stdout",
     "output_type": "stream",
     "text": [
      "Missed by: 5.61e-16\n"
     ]
    }
   ],
   "source": [
    "assert nll(.5,.5,.5,.5) == likelyhood_answer"
   ]
  },
  {
   "cell_type": "code",
   "execution_count": 11,
   "metadata": {},
   "outputs": [
    {
     "name": "stdout",
     "output_type": "stream",
     "text": [
      "3.65 ms ± 903 µs per loop (mean ± std. dev. of 7 runs, 100 loops each)\n"
     ]
    }
   ],
   "source": [
    "%%timeit\n",
    "nll(*np.random.rand(4))"
   ]
  },
  {
   "cell_type": "code",
   "execution_count": 12,
   "metadata": {},
   "outputs": [],
   "source": [
    "minuit = Minuit(nll,\n",
    "                errordef=1,\n",
    "                **default_params)"
   ]
  },
  {
   "cell_type": "code",
   "execution_count": 13,
   "metadata": {},
   "outputs": [
    {
     "name": "stdout",
     "output_type": "stream",
     "text": [
      "FCN: 137\n",
      "is_valid: True\n",
      "fval: 1672956.6975178658\n",
      "edm: 3.0927053268030814e-06\n",
      "\n",
      "CPU times: user 19.8 s, sys: 134 ms, total: 19.9 s\n",
      "Wall time: 416 ms\n"
     ]
    }
   ],
   "source": [
    "%%time\n",
    "run_and_print(minuit)"
   ]
  },
  {
   "cell_type": "code",
   "execution_count": 22,
   "metadata": {},
   "outputs": [],
   "source": [
    "exit()"
   ]
  },
  {
   "cell_type": "markdown",
   "metadata": {},
   "source": [
    "## CUPY GPU\n",
    "\n",
    "Let's use CUPY on the GPU:"
   ]
  },
  {
   "cell_type": "code",
   "execution_count": 14,
   "metadata": {},
   "outputs": [],
   "source": [
    "%run common.py"
   ]
  },
  {
   "cell_type": "code",
   "execution_count": 15,
   "metadata": {},
   "outputs": [],
   "source": [
    "import cupy"
   ]
  },
  {
   "cell_type": "code",
   "execution_count": 16,
   "metadata": {},
   "outputs": [
    {
     "name": "stdout",
     "output_type": "stream",
     "text": [
      "CPU times: user 226 ms, sys: 576 ms, total: 803 ms\n",
      "Wall time: 754 ms\n"
     ]
    }
   ],
   "source": [
    "%%time\n",
    "d_dist = cupy.array(dist)"
   ]
  },
  {
   "cell_type": "code",
   "execution_count": 17,
   "metadata": {},
   "outputs": [],
   "source": [
    "def gaussian(x, μ, σ):\n",
    "    return 1/cupy.sqrt(2*np.pi*σ**2) * cupy.exp(-(x-μ)**2/(2*σ**2))"
   ]
  },
  {
   "cell_type": "code",
   "execution_count": 18,
   "metadata": {},
   "outputs": [],
   "source": [
    "def add(x, f_0, mean, sigma, sigma2):\n",
    "    return f_0 * gaussian(x, mean, sigma) + (1 - f_0) * gaussian(x, mean, sigma2)"
   ]
  },
  {
   "cell_type": "code",
   "execution_count": 19,
   "metadata": {},
   "outputs": [],
   "source": [
    "def nll(f_0, mean, sigma, sigma2):\n",
    "    return -cupy.sum(cupy.log(add(d_dist, f_0, mean, sigma, sigma2)))"
   ]
  },
  {
   "cell_type": "code",
   "execution_count": 20,
   "metadata": {},
   "outputs": [],
   "source": [
    "assert float(nll(.5,.5,.5,.5)) == likelyhood_answer"
   ]
  },
  {
   "cell_type": "code",
   "execution_count": 21,
   "metadata": {},
   "outputs": [
    {
     "name": "stdout",
     "output_type": "stream",
     "text": [
      "3.02 ms ± 36.5 µs per loop (mean ± std. dev. of 7 runs, 100 loops each)\n"
     ]
    }
   ],
   "source": [
    "%%timeit\n",
    "float(nll(*np.random.rand(4)))"
   ]
  },
  {
   "cell_type": "code",
   "execution_count": 22,
   "metadata": {},
   "outputs": [],
   "source": [
    "minuit = Minuit(nll,\n",
    "                errordef=1,\n",
    "                **default_params)"
   ]
  },
  {
   "cell_type": "code",
   "execution_count": 23,
   "metadata": {},
   "outputs": [
    {
     "name": "stdout",
     "output_type": "stream",
     "text": [
      "FCN: 137\n",
      "is_valid: True\n",
      "fval: 1672956.6975178663\n",
      "edm: 3.092622654275362e-06\n",
      "\n",
      "CPU times: user 404 ms, sys: 24 ms, total: 428 ms\n",
      "Wall time: 427 ms\n"
     ]
    }
   ],
   "source": [
    "%%time\n",
    "run_and_print(minuit)"
   ]
  },
  {
   "cell_type": "markdown",
   "metadata": {},
   "source": [
    "## Cupy Custom Kernel\n",
    "\n",
    "Let's go all out and write a CUDA kernel by hand, then call sum on it. We are *almost* ideal here; the only downside is that we make a single temporary 1M element array before summing.\n",
    "\n",
    "We *could* use a reduction kernel, but I don't know if I trust that do not have round off error issues."
   ]
  },
  {
   "cell_type": "code",
   "execution_count": 32,
   "metadata": {},
   "outputs": [],
   "source": [
    "mykernel = cupy.ElementwiseKernel(\n",
    "    'float64 x, float64 f_0, float64 mean, float64 sigma, float64 sigma2',\n",
    "    'float64 z', '''\n",
    "    \n",
    "    double s12 = 2*sigma*sigma;\n",
    "    double s22 = 2*sigma2*sigma2;\n",
    "    \n",
    "    double p = -(x-mean)*(x-mean);\n",
    "    double g = rsqrt(M_PI*s12) * exp(p/s12);\n",
    "    double g2 = rsqrt(M_PI*s22) * exp(p/s22);\n",
    "    \n",
    "    z = log(f_0 * g + (1 - f_0) * g2);\n",
    "        \n",
    "    ''', 'mykernel')"
   ]
  },
  {
   "cell_type": "code",
   "execution_count": 33,
   "metadata": {},
   "outputs": [],
   "source": [
    "def nll(f_0, mean, sigma, sigma2):\n",
    "    return -cupy.sum(mykernel(d_dist, f_0, mean, sigma, sigma2))"
   ]
  },
  {
   "cell_type": "code",
   "execution_count": 34,
   "metadata": {},
   "outputs": [],
   "source": [
    "assert float(nll(.5,.5,.5,.5)) == likelyhood_answer"
   ]
  },
  {
   "cell_type": "code",
   "execution_count": 36,
   "metadata": {},
   "outputs": [
    {
     "name": "stdout",
     "output_type": "stream",
     "text": [
      "843 µs ± 3.42 µs per loop (mean ± std. dev. of 7 runs, 1000 loops each)\n"
     ]
    }
   ],
   "source": [
    "%%timeit\n",
    "float(nll(*np.random.rand(4)))"
   ]
  },
  {
   "cell_type": "code",
   "execution_count": 37,
   "metadata": {},
   "outputs": [],
   "source": [
    "minuit = Minuit(nll,\n",
    "                errordef=1,\n",
    "                **default_params)"
   ]
  },
  {
   "cell_type": "code",
   "execution_count": 38,
   "metadata": {},
   "outputs": [
    {
     "name": "stdout",
     "output_type": "stream",
     "text": [
      "FCN: 137\n",
      "is_valid: True\n",
      "fval: 1672956.6975178663\n",
      "edm: 3.092621710282783e-06\n",
      "\n",
      "CPU times: user 100 ms, sys: 18 ms, total: 118 ms\n",
      "Wall time: 118 ms\n"
     ]
    }
   ],
   "source": [
    "%%time\n",
    "run_and_print(minuit)"
   ]
  },
  {
   "cell_type": "code",
   "execution_count": 24,
   "metadata": {},
   "outputs": [],
   "source": [
    "rku = cupy.ReductionKernel(\n",
    "    'float64 x, float64 f_0, float64 mean, float64 sigma, float64 sigma2',\n",
    "    'float64 r',\n",
    "    '''\n",
    "    log(     f_0  * rsqrt(2*M_PI*sigma*sigma)   * exp(-(x-mean)*(x-mean)/(2*sigma*sigma)) +\n",
    "        (1 - f_0) * rsqrt(2*M_PI*sigma2*sigma2) * exp(-(x-mean)*(x-mean)/(2*sigma2*sigma2)))\n",
    "    ''',\n",
    "    'a + b',\n",
    "    'r = -a',\n",
    "    '0',\n",
    "    'redu_kernel'\n",
    ")"
   ]
  },
  {
   "cell_type": "code",
   "execution_count": 25,
   "metadata": {},
   "outputs": [],
   "source": [
    "def nll(f_0, mean, sigma, sigma2):\n",
    "    return rku(d_dist, f_0, mean, sigma, sigma2)"
   ]
  },
  {
   "cell_type": "code",
   "execution_count": 26,
   "metadata": {},
   "outputs": [],
   "source": [
    "assert float(nll(.5,.5,.5,.5)) == likelyhood_answer"
   ]
  },
  {
   "cell_type": "code",
   "execution_count": 28,
   "metadata": {},
   "outputs": [
    {
     "name": "stdout",
     "output_type": "stream",
     "text": [
      "2.5 ms ± 6.37 µs per loop (mean ± std. dev. of 7 runs, 100 loops each)\n"
     ]
    }
   ],
   "source": [
    "%%timeit\n",
    "float(nll(*np.random.rand(4)))"
   ]
  },
  {
   "cell_type": "code",
   "execution_count": 33,
   "metadata": {},
   "outputs": [],
   "source": [
    "minuit = Minuit(nll,\n",
    "                errordef=1,\n",
    "                **default_params)"
   ]
  },
  {
   "cell_type": "code",
   "execution_count": 34,
   "metadata": {},
   "outputs": [
    {
     "name": "stdout",
     "output_type": "stream",
     "text": [
      "FCN: 137\n",
      "is_valid: True\n",
      "fval: 1672956.6975178663\n",
      "edm: 3.092623404318523e-06\n",
      "\n",
      "CPU times: user 257 ms, sys: 86.9 ms, total: 344 ms\n",
      "Wall time: 343 ms\n"
     ]
    }
   ],
   "source": [
    "%%time\n",
    "run_and_print(minuit)"
   ]
  },
  {
   "cell_type": "code",
   "execution_count": 6,
   "metadata": {},
   "outputs": [],
   "source": [
    "exit()"
   ]
  },
  {
   "cell_type": "markdown",
   "metadata": {},
   "source": [
    "## PyTorch"
   ]
  },
  {
   "cell_type": "code",
   "execution_count": 1,
   "metadata": {},
   "outputs": [],
   "source": [
    "%run common.py"
   ]
  },
  {
   "cell_type": "code",
   "execution_count": 2,
   "metadata": {},
   "outputs": [],
   "source": [
    "import torch"
   ]
  },
  {
   "cell_type": "code",
   "execution_count": 3,
   "metadata": {},
   "outputs": [],
   "source": [
    "device = torch.device('cuda:0')"
   ]
  },
  {
   "cell_type": "code",
   "execution_count": 4,
   "metadata": {},
   "outputs": [
    {
     "name": "stdout",
     "output_type": "stream",
     "text": [
      "CPU times: user 2.41 s, sys: 1.38 s, total: 3.8 s\n",
      "Wall time: 3.83 s\n"
     ]
    }
   ],
   "source": [
    "%%time\n",
    "d_dist = torch.tensor(dist, device=device)"
   ]
  },
  {
   "cell_type": "code",
   "execution_count": 5,
   "metadata": {},
   "outputs": [],
   "source": [
    "def gaussian(x, μ, σ):\n",
    "    return 1/np.sqrt(2*np.pi*σ**2) * torch.exp(-(x-μ)**2/(2*σ**2))"
   ]
  },
  {
   "cell_type": "code",
   "execution_count": 6,
   "metadata": {},
   "outputs": [],
   "source": [
    "def add(x, f_0, mean, sigma, sigma2):\n",
    "    return f_0 * gaussian(x, mean, sigma) + (1 - f_0) * gaussian(x, mean, sigma2)"
   ]
  },
  {
   "cell_type": "code",
   "execution_count": 7,
   "metadata": {},
   "outputs": [],
   "source": [
    "def nll(f_0, mean, sigma, sigma2):\n",
    "    return -torch.sum(torch.log(add(d_dist, f_0, mean, sigma, sigma2)))"
   ]
  },
  {
   "cell_type": "code",
   "execution_count": 8,
   "metadata": {},
   "outputs": [],
   "source": [
    "v = nll(.5,.5,.5,.5)"
   ]
  },
  {
   "cell_type": "code",
   "execution_count": 9,
   "metadata": {},
   "outputs": [
    {
     "name": "stdout",
     "output_type": "stream",
     "text": [
      "Missed by: 1.87e-16\n"
     ]
    }
   ],
   "source": [
    "assert v.item() == likelyhood_answer"
   ]
  },
  {
   "cell_type": "code",
   "execution_count": 11,
   "metadata": {},
   "outputs": [
    {
     "name": "stdout",
     "output_type": "stream",
     "text": [
      "3.68 ms ± 57.6 µs per loop (mean ± std. dev. of 7 runs, 100 loops each)\n"
     ]
    }
   ],
   "source": [
    "%%timeit\n",
    "nll(*np.random.rand(4))"
   ]
  },
  {
   "cell_type": "code",
   "execution_count": 16,
   "metadata": {},
   "outputs": [],
   "source": [
    "minuit = Minuit(nll,\n",
    "                errordef=1,\n",
    "                **default_params)"
   ]
  },
  {
   "cell_type": "code",
   "execution_count": 17,
   "metadata": {},
   "outputs": [
    {
     "name": "stdout",
     "output_type": "stream",
     "text": [
      "FCN: 137\n",
      "is_valid: True\n",
      "fval: 1672956.697517866\n",
      "edm: 3.0926286412622218e-06\n",
      "\n",
      "CPU times: user 13.6 s, sys: 551 ms, total: 14.2 s\n",
      "Wall time: 594 ms\n"
     ]
    }
   ],
   "source": [
    "%%time\n",
    "run_and_print(minuit)"
   ]
  },
  {
   "cell_type": "code",
   "execution_count": 18,
   "metadata": {},
   "outputs": [],
   "source": [
    "exit()"
   ]
  },
  {
   "cell_type": "markdown",
   "metadata": {},
   "source": [
    "## TensorFlow: static graphs\n",
    "\n",
    "Eager execution is broken for me due to incompatibilty with LZ4. Also tensorflow doesn't play nice with memory, so restarting the kernel."
   ]
  },
  {
   "cell_type": "code",
   "execution_count": 1,
   "metadata": {},
   "outputs": [],
   "source": [
    "%run common.py"
   ]
  },
  {
   "cell_type": "code",
   "execution_count": 2,
   "metadata": {},
   "outputs": [
    {
     "name": "stderr",
     "output_type": "stream",
     "text": [
      "/opt/anaconda/lib/python3.6/site-packages/h5py/__init__.py:36: FutureWarning: Conversion of the second argument of issubdtype from `float` to `np.floating` is deprecated. In future, it will be treated as `np.float64 == np.dtype(float).type`.\n",
      "  from ._conv import register_converters as _register_converters\n"
     ]
    }
   ],
   "source": [
    "import tensorflow as tf"
   ]
  },
  {
   "cell_type": "code",
   "execution_count": 3,
   "metadata": {},
   "outputs": [],
   "source": [
    "def gaussian(x, μ, σ):\n",
    "    return 1/tf.sqrt(2*np.pi*σ**2) * tf.math.exp(-(x-μ)**2/(2*σ**2))"
   ]
  },
  {
   "cell_type": "code",
   "execution_count": 4,
   "metadata": {},
   "outputs": [],
   "source": [
    "def add(x, f_0, mean, sigma, sigma2):\n",
    "    return f_0 * gaussian(x, mean, sigma) + (1 - f_0) * gaussian(x, mean, sigma2)"
   ]
  },
  {
   "cell_type": "code",
   "execution_count": 5,
   "metadata": {},
   "outputs": [],
   "source": [
    "def make_nll(d_dist, f_0, mean, sigma, sigma2):\n",
    "    return -tf.reduce_sum(tf.math.log(add(d_dist, f_0, mean, sigma, sigma2)))"
   ]
  },
  {
   "cell_type": "code",
   "execution_count": 6,
   "metadata": {},
   "outputs": [],
   "source": [
    "x = tf.constant(dist)\n",
    "tf_f_0 = tf.placeholder(dtype=tf.float64)\n",
    "tf_mean = tf.placeholder(dtype=tf.float64)\n",
    "tf_sigma = tf.placeholder(dtype=tf.float64)\n",
    "tf_sigma2 = tf.placeholder(dtype=tf.float64)\n",
    "\n",
    "graph = make_nll(x, tf_f_0, tf_mean, tf_sigma, tf_sigma2)"
   ]
  },
  {
   "cell_type": "code",
   "execution_count": 7,
   "metadata": {},
   "outputs": [],
   "source": [
    "sess = tf.Session()\n",
    "\n",
    "def nll(f_0, mean, sigma, sigma2): \n",
    "    loss_value = sess.run(graph,\n",
    "                          feed_dict={tf_f_0:f_0,\n",
    "                                     tf_mean:mean,\n",
    "                                     tf_sigma:sigma,\n",
    "                                     tf_sigma2:sigma2})\n",
    "    return loss_value"
   ]
  },
  {
   "cell_type": "code",
   "execution_count": 8,
   "metadata": {},
   "outputs": [],
   "source": [
    "assert nll(.5,.5,.5,.5) == likelyhood_answer"
   ]
  },
  {
   "cell_type": "markdown",
   "metadata": {},
   "source": [
    "Using random numbers here just to make sure we don't get some special caching or somthing from TensorFlow."
   ]
  },
  {
   "cell_type": "code",
   "execution_count": 9,
   "metadata": {},
   "outputs": [
    {
     "name": "stdout",
     "output_type": "stream",
     "text": [
      "1.38 ms ± 203 µs per loop (mean ± std. dev. of 7 runs, 1000 loops each)\n"
     ]
    }
   ],
   "source": [
    "%%timeit\n",
    "nll(*np.random.rand(4))"
   ]
  },
  {
   "cell_type": "code",
   "execution_count": 17,
   "metadata": {},
   "outputs": [],
   "source": [
    "minuit = Minuit(nll,\n",
    "                errordef=1,\n",
    "                **default_params)"
   ]
  },
  {
   "cell_type": "code",
   "execution_count": 18,
   "metadata": {},
   "outputs": [
    {
     "name": "stdout",
     "output_type": "stream",
     "text": [
      "FCN: 137\n",
      "is_valid: True\n",
      "fval: 1672956.6975178663\n",
      "edm: 3.0926072991921636e-06\n",
      "\n",
      "CPU times: user 396 ms, sys: 58.3 ms, total: 455 ms\n",
      "Wall time: 225 ms\n"
     ]
    }
   ],
   "source": [
    "%%time\n",
    "run_and_print(minuit)"
   ]
  },
  {
   "cell_type": "code",
   "execution_count": 19,
   "metadata": {},
   "outputs": [],
   "source": [
    "sess.close()"
   ]
  },
  {
   "cell_type": "markdown",
   "metadata": {},
   "source": [
    "When using tensorflow, be a good user and kill the kernel so GPU memory gets reclaimed."
   ]
  },
  {
   "cell_type": "code",
   "execution_count": 20,
   "metadata": {},
   "outputs": [],
   "source": [
    "exit()"
   ]
  },
  {
   "cell_type": "markdown",
   "metadata": {},
   "source": [
    "Quick check of summation algorithms:\n",
    "\n",
    "```python\n",
    ">>> import numpy as np\n",
    ">>> import math\n",
    ">>> np.random.seed(42)\n",
    ">>> dist = np.hstack([\n",
    "...     np.random.normal(loc=1, scale=2., size=500_000),\n",
    "...     np.random.normal(loc=1, scale=.5, size=500_000)\n",
    "... ])\n",
    "\n",
    "# fsum vs. naive\n",
    ">>> math.fsum(dist) - sum(dist)\n",
    "5.820766091346741e-10\n",
    "\n",
    "# fsum vs. np.sum\n",
    ">>> math.fsum(dist) - np.sum(dist)\n",
    "0.0\n",
    "\n",
    "# Check with 32 bit, fsum vs. naive\n",
    ">>> math.fsum(dist.astype(np.float32)) - sum(dist.astype(np.float32), np.float32(0))\n",
    "-20.27040922746528\n",
    "\n",
    "# Check with 32 bit, fsum vs. np.sum\n",
    ">>> math.fsum(dist.astype(np.float32)) - np.sum(dist.astype(np.float32))\n",
    "-0.1454092274652794\n",
    "\n",
    "# Check with 32 bit fsum vs. 64 bit fsum\n",
    ">>> math.fsum(dist) - math.fsum(dist.astype(np.float32))\n",
    "-2.3222528398036957e-06\n",
    "```"
   ]
  }
 ],
 "metadata": {
  "kernelspec": {
   "display_name": "Python 3",
   "language": "python",
   "name": "python3"
  },
  "language_info": {
   "codemirror_mode": {
    "name": "ipython",
    "version": 3
   },
   "file_extension": ".py",
   "mimetype": "text/x-python",
   "name": "python",
   "nbconvert_exporter": "python",
   "pygments_lexer": "ipython3",
   "version": "3.6.4"
  }
 },
 "nbformat": 4,
 "nbformat_minor": 2
}
