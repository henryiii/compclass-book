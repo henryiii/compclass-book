{
 "cells": [
  {
   "cell_type": "code",
   "execution_count": 2,
   "metadata": {},
   "outputs": [],
   "source": [
    "import cupy\n",
    "import numpy\n",
    "import math\n",
    "import matplotlib.pyplot as plt"
   ]
  },
  {
   "cell_type": "markdown",
   "metadata": {},
   "source": [
    "Wait until conda gets 5.0 if you want RawKernel. Not fun to setup CUDA with libraries and build. All credit for original code codes to Jim Pivarski here: https://github.com/jpivarski/python-numpy-mini-course/blob/evaluated/7-gpu.ipynb"
   ]
  },
  {
   "cell_type": "code",
   "execution_count": 3,
   "metadata": {},
   "outputs": [
    {
     "data": {
      "text/plain": [
       "'5.0.0'"
      ]
     },
     "execution_count": 3,
     "metadata": {},
     "output_type": "execute_result"
    }
   ],
   "source": [
    "cupy.__version__"
   ]
  },
  {
   "cell_type": "code",
   "execution_count": 4,
   "metadata": {},
   "outputs": [],
   "source": [
    "import numpy\n",
    "\n",
    "def prepare(height, width, numpy=numpy):\n",
    "    y, x = numpy.ogrid[-1:0:height*1j, -1.5:0:width*1j]\n",
    "    c = x + y*1j\n",
    "    fractal = numpy.zeros(c.shape, dtype=numpy.int32)\n",
    "    return c, fractal\n",
    "\n",
    "def run(c, fractal, maxiterations=20):\n",
    "    fractal *= 0                  # set fractal to maxiterations without replacing it\n",
    "    fractal += maxiterations\n",
    "    z = c\n",
    "    for i in range(maxiterations):\n",
    "        z **= 2\n",
    "        z += c\n",
    "        diverge = z.real**2 + z.imag**2 > 2**2\n",
    "        z[diverge] = 2\n",
    "        diverge &= (fractal == maxiterations)\n",
    "        fractal[diverge] = i\n",
    "        \n",
    "    return fractal"
   ]
  },
  {
   "cell_type": "code",
   "execution_count": 5,
   "metadata": {},
   "outputs": [],
   "source": [
    "c, fractal = prepare(8000, 12000, numpy)"
   ]
  },
  {
   "cell_type": "code",
   "execution_count": 6,
   "metadata": {},
   "outputs": [
    {
     "name": "stdout",
     "output_type": "stream",
     "text": [
      "30.6 s ± 179 ms per loop (mean ± std. dev. of 7 runs, 1 loop each)\n"
     ]
    }
   ],
   "source": [
    "%%timeit\n",
    "_ = run(c, fractal)"
   ]
  },
  {
   "cell_type": "code",
   "execution_count": 7,
   "metadata": {},
   "outputs": [],
   "source": [
    "c, fractal = prepare(8000, 12000, cupy)"
   ]
  },
  {
   "cell_type": "code",
   "execution_count": 26,
   "metadata": {},
   "outputs": [
    {
     "name": "stdout",
     "output_type": "stream",
     "text": [
      "786 ms ± 1.61 ms per loop (mean ± std. dev. of 7 runs, 1 loop each)\n"
     ]
    }
   ],
   "source": [
    "%%timeit\n",
    "_ = run(c, fractal)\n",
    "cupy.cuda.Stream.null.synchronize()"
   ]
  },
  {
   "cell_type": "code",
   "execution_count": 31,
   "metadata": {},
   "outputs": [],
   "source": [
    "cupy_single = cupy.ElementwiseKernel(\n",
    "    \"complex128 cpx, int32 maxiterations\",\n",
    "    \"int32 res\",\n",
    "    \"\"\"\n",
    "    res = maxiterations;\n",
    "    complex<double> z = cpx;\n",
    "\n",
    "    for (int i=0; i<maxiterations; i++) {\n",
    "        z = z*z + cpx;\n",
    "        \n",
    "        if(z.real()*z.real() + z.imag()*z.imag() > 4) {\n",
    "            res = i;\n",
    "            break;\n",
    "        }\n",
    "    }\n",
    "    \n",
    "    \"\"\",                                \n",
    "    \"fract_el\")"
   ]
  },
  {
   "cell_type": "code",
   "execution_count": 32,
   "metadata": {},
   "outputs": [],
   "source": [
    "c, _ = prepare(8000, 12000, cupy)"
   ]
  },
  {
   "cell_type": "code",
   "execution_count": 33,
   "metadata": {},
   "outputs": [
    {
     "name": "stdout",
     "output_type": "stream",
     "text": [
      "3.86 ms ± 1.67 µs per loop (mean ± std. dev. of 7 runs, 100 loops each)\n"
     ]
    }
   ],
   "source": [
    "%%timeit\n",
    "fractal = cupy_single(c, 20)\n",
    "cupy.cuda.Stream.null.synchronize()"
   ]
  },
  {
   "cell_type": "code",
   "execution_count": 12,
   "metadata": {},
   "outputs": [],
   "source": [
    "cupy_kernel = cupy.RawKernel(\"\"\"\n",
    "extern \"C\" \n",
    "__global__ void fractal(double* c, int* fractal, int height, int width, int maxiterations) {\n",
    "    const int x = threadIdx.x + blockIdx.x*blockDim.x;\n",
    "    const int y = threadIdx.y + blockIdx.y*blockDim.y;\n",
    "    double creal = c[2 * (x + height*y)];\n",
    "    double cimag = c[2 * (x + height*y) + 1];\n",
    "    double zreal = creal;\n",
    "    double zimag = cimag;\n",
    "    fractal[x + height*y] = maxiterations;\n",
    "    for (int i = 0;  i < maxiterations;  i++) {\n",
    "        double zreal2 = zreal*zreal - zimag*zimag + creal;\n",
    "        double zimag2 = 2*zreal*zimag + cimag;\n",
    "        zreal = zreal2;\n",
    "        zimag = zimag2;\n",
    "        if (zreal*zreal + zimag*zimag > 4) {\n",
    "            fractal[x + height*y] = i;\n",
    "            break;\n",
    "        }\n",
    "    }\n",
    "}\n",
    "\"\"\", \"fractal\")"
   ]
  },
  {
   "cell_type": "code",
   "execution_count": 13,
   "metadata": {},
   "outputs": [],
   "source": [
    "def run_pycuda(height, width, maxiterations=20):\n",
    "    y, x = cupy.ogrid[-1:0:height*1j, -1.5:0:width*1j]\n",
    "    grid = (int(math.ceil(height / 32)), int(math.ceil(width / 32)))\n",
    "    c = x + y*1j\n",
    "    fractal = cupy.empty(c.shape, dtype=cupy.int32) + maxiterations\n",
    "    cupy_kernel(grid, (32,32,1),\n",
    "                [c.view(cupy.double), fractal,\n",
    "                cupy.int32(height),\n",
    "                cupy.int32(width),\n",
    "                cupy.int32(maxiterations)])\n",
    "    return c, fractal"
   ]
  },
  {
   "cell_type": "code",
   "execution_count": 25,
   "metadata": {},
   "outputs": [
    {
     "name": "stdout",
     "output_type": "stream",
     "text": [
      "9.03 ms ± 6.84 µs per loop (mean ± std. dev. of 7 runs, 100 loops each)\n"
     ]
    }
   ],
   "source": [
    "%%timeit\n",
    "_, fractal = run_pycuda(8000, 12000)\n",
    "cupy.cuda.Stream.null.synchronize()"
   ]
  },
  {
   "cell_type": "code",
   "execution_count": 15,
   "metadata": {},
   "outputs": [
    {
     "data": {
      "text/plain": [
       "<matplotlib.image.AxesImage at 0x7f497b2e7240>"
      ]
     },
     "execution_count": 15,
     "metadata": {},
     "output_type": "execute_result"
    },
    {
     "data": {
      "image/png": "[encoded data removed]",
      "text/plain": [
       "<Figure size 432x288 with 1 Axes>"
      ]
     },
     "metadata": {},
     "output_type": "display_data"
    }
   ],
   "source": [
    "_, fractal = run_pycuda(8000, 12000)\n",
    "plt.imshow(fractal.get())"
   ]
  },
  {
   "cell_type": "code",
   "execution_count": null,
   "metadata": {},
   "outputs": [],
   "source": []
  }
 ],
 "metadata": {
  "kernelspec": {
   "display_name": "Python 3",
   "language": "python",
   "name": "python3"
  },
  "language_info": {
   "codemirror_mode": {
    "name": "ipython",
    "version": 3
   },
   "file_extension": ".py",
   "mimetype": "text/x-python",
   "name": "python",
   "nbconvert_exporter": "python",
   "pygments_lexer": "ipython3",
   "version": "3.6.4"
  }
 },
 "nbformat": 4,
 "nbformat_minor": 2
}
