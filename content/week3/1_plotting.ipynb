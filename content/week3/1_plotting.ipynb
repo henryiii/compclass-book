{
 "cells": [
  {
   "cell_type": "markdown",
   "metadata": {},
   "source": [
    "# Plotting in Python\n",
    "\n",
    "## Objectives\n",
    "\n",
    "* Learn how to make a plot\n",
    "* Learn how to style a plot"
   ]
  },
  {
   "cell_type": "code",
   "execution_count": null,
   "metadata": {},
   "outputs": [],
   "source": [
    "# Optional matplotlib backend selection here\n",
    "# %matplotlib inline\n",
    "%matplotlib notebook"
   ]
  },
  {
   "cell_type": "markdown",
   "metadata": {},
   "source": [
    "## Matplotlib\n",
    "\n",
    "There are lots of plotting libraries in Python, but the most popular one is matplotlib. It was designed (for good and bad) to look like Matlab. It's slow, and ugly/old in some ways, but it is powerful and ubiquitous. It has a diverse set of backends for almost any occasion, and it has great integrations into everything, including Jupyter Notebooks. It's also still under active development, so it's a safe choice for the future."
   ]
  },
  {
   "cell_type": "markdown",
   "metadata": {},
   "source": [
    "## Step 1: Selecting a backend\n",
    "\n",
    "Matplotlib tries to pick the best backend for your situation, but there are cases when it misses. Here's how to select.\n",
    "\n",
    "Must be done *before* using anything from matplotlib!"
   ]
  },
  {
   "cell_type": "markdown",
   "metadata": {},
   "source": [
    "### Non-graphical backend (Only for saving files)\n",
    "```python\n",
    "import matplotlib\n",
    "matplotlib.use('Agg')\n",
    "```\n",
    "\n",
    "You can find lots of other backends [here](https://matplotlib.org/tutorials/introductory/usage.html#backends)."
   ]
  },
  {
   "cell_type": "markdown",
   "metadata": {},
   "source": [
    "## Jupyter notebook\n",
    "\n",
    "Jupyter has evolved much more quickly than matplotlib, so there are several ways to use it:\n",
    "\n",
    "#### Direct use\n",
    "\n",
    "First, try just using it. If you are on the latest versions of Juptyer/matplotlib, you should get a usable non-interactive backend.\n",
    "\n",
    "#### Magic integration\n",
    "\n",
    "You can use magics built right into Jupyter (one of the few external packages to have custom default magics) to set a backend. This is usually easier in a notebook the the manual method of setting a backend.\n",
    "\n",
    "```python\n",
    "%matplotlib --list   # list available backends\n",
    "%matplotlib inline   # traditional\n",
    "%matplotlib notebook # interactive\n",
    "%matplotlib widget   # lab-style interactive\n",
    "```"
   ]
  },
  {
   "cell_type": "code",
   "execution_count": null,
   "metadata": {},
   "outputs": [],
   "source": [
    "%matplotlib --list"
   ]
  },
  {
   "cell_type": "markdown",
   "metadata": {},
   "source": [
    "## Step 2: Setting a style\n",
    "\n",
    "There are lots of ways to style things in Matplotlib. The default style is pretty good, and when you are ready for more, you might look at the built-in styles:"
   ]
  },
  {
   "cell_type": "code",
   "execution_count": null,
   "metadata": {},
   "outputs": [],
   "source": [
    "import matplotlib.style\n",
    "\n",
    "print(matplotlib.style.available)\n",
    "\n",
    "# Uncomment to try a different style:\n",
    "# matplotlib.style.use('seaborn')"
   ]
  },
  {
   "cell_type": "markdown",
   "metadata": {},
   "source": [
    "You can write your own style files, either locally or for use in your system. See [the docs](https://matplotlib.org/tutorials/introductory/customizing.html). You can also change parts of the style by hand in your code (we'll do that later)."
   ]
  },
  {
   "cell_type": "markdown",
   "metadata": {},
   "source": [
    "## Step 3: Import the pyplot interface\n",
    "\n",
    "The interface 99% of users will need is called pyplot:"
   ]
  },
  {
   "cell_type": "code",
   "execution_count": null,
   "metadata": {},
   "outputs": [],
   "source": [
    "import matplotlib.pyplot as plt"
   ]
  },
  {
   "cell_type": "markdown",
   "metadata": {},
   "source": [
    "### Before Step 4: Make some data to plot\n",
    "\n",
    "Let's put together something interesting to plot. For now, we'll just plot a function to make a y vs. x plot."
   ]
  },
  {
   "cell_type": "code",
   "execution_count": null,
   "metadata": {},
   "outputs": [],
   "source": [
    "import numpy as np\n",
    "\n",
    "x = np.linspace(0,50,500)\n",
    "y = np.sin(x) * np.exp(-.1*x)"
   ]
  },
  {
   "cell_type": "markdown",
   "metadata": {},
   "source": [
    "### Step 4, take 1: Plot your data\n",
    "\n",
    "There are two interfaces you can use in Matplotlib (at least 2). We'll start with the \"stateful\" interface - if you are used to Matlab, you'll feel at home. This interface is so common that I have to show it, and it is a hair simpler for quick plots:"
   ]
  },
  {
   "cell_type": "code",
   "execution_count": null,
   "metadata": {},
   "outputs": [],
   "source": [
    "# Matplotlib will make a figure if you don't make one yourself\n",
    "# on *most* backends. We'll make one explicitly to make sure.\n",
    "plt.figure()\n",
    "\n",
    "# The thing inside the figure we see the plot on is called an\n",
    "# axes (plural) - it will get created for you if you don't make one.\n",
    "\n",
    "# Now, make the y vs. x plot\n",
    "plt.plot(x, y)\n",
    "\n",
    "# We always should add labels\n",
    "plt.xlabel(\"x\")\n",
    "plt.ylabel(\"y\")\n",
    "plt.title(\"A plot\")\n",
    "\n",
    "# Some backends let you skip the \"show\". You can save *before* you show, not after.\n",
    "plt.show()"
   ]
  },
  {
   "cell_type": "markdown",
   "metadata": {},
   "source": [
    "### Step 4, take 2: Plot your data\n",
    "\n",
    "The other interface is object oriented, and a bit more powerful. If you have multiple axes, for example, this will be more natural.\n",
    "\n",
    "<!--\n",
    "for style in matplotlib.style.available:\n",
    "    with matplotlib.style.context(style):\n",
    "        print(\"Plotting with style:\", style)\n",
    "-->"
   ]
  },
  {
   "cell_type": "code",
   "execution_count": null,
   "metadata": {},
   "outputs": [],
   "source": [
    "# You can use plt.figure then plt.axes, but the easiest way\n",
    "# is to make them both at the same time:\n",
    "\n",
    "fig, ax = plt.subplots() # Defaults to 1 subplot\n",
    "\n",
    "# You intact with the axes\n",
    "ax.plot(x, y)\n",
    "\n",
    "# You usually add `set_` to the other function names\n",
    "ax.set_xlabel(\"x\")\n",
    "ax.set_ylabel(\"y\")\n",
    "ax.set_title(\"A plot\")\n",
    "\n",
    "plt.show()"
   ]
  },
  {
   "cell_type": "markdown",
   "metadata": {},
   "source": [
    "## More plot types\n",
    "\n",
    "* Images\n",
    "    * `imshow()`\n",
    "* Grids\n",
    "    * `pcolormesh()`\n",
    "* Histograms\n",
    "    * `hist()`\n",
    "    * `hist2d()`\n",
    "    * Note that numpy as `histogram`, `histogram2d`"
   ]
  },
  {
   "cell_type": "markdown",
   "metadata": {},
   "source": [
    "## More features\n",
    "\n",
    "* Labels: `plt.xlabel()` or `ax.set_xlabel()\n",
    "* Colorbars: `plt.colorbar()`\n",
    "* Grid of axis: `plt.subplots()`\n",
    "* Saving `savefig()` (with `plt` or `fig`)\n",
    "* Iterative plotting (helps in converting from our book)"
   ]
  },
  {
   "cell_type": "code",
   "execution_count": null,
   "metadata": {},
   "outputs": [],
   "source": [
    "fig, ax = plt.subplots()\n",
    "\n",
    "line, = ax.plot([], [])\n",
    "for xv, yv in zip(x,y):\n",
    "    xdata, ydata = line.get_data()\n",
    "    xdata = np.append(xdata, xv)\n",
    "    ydata = np.append(ydata, yv)\n",
    "    line.set_data(xdata, ydata)\n",
    "\n",
    "ax.set_ylim(-1,1)\n",
    "ax.set_xlim(0,50)\n",
    "\n",
    "plt.show()"
   ]
  },
  {
   "cell_type": "code",
   "execution_count": null,
   "metadata": {},
   "outputs": [],
   "source": [
    "fig, ax = plt.subplots()\n",
    "ax.plot(x,y)\n",
    "\n",
    "# Will tighen up the plot based on the current labels, etc.\n",
    "plt.tight_layout()\n",
    "\n",
    "# plt.savefig('myfile.pdf')\n",
    "plt.show()"
   ]
  },
  {
   "cell_type": "markdown",
   "metadata": {},
   "source": [
    "## Styling\n",
    "\n",
    "There are (too) many ways to style a plot. Let's mention several and focus on a few:\n",
    "\n",
    "## Style sheets\n",
    "\n",
    "Matplotlib has built in style sheets, and you can make your own `mystyle.mplstyle` files.\n",
    "\n",
    "See <https://matplotlib.org/tutorials/introductory/customizing.html> for lots of info!"
   ]
  },
  {
   "cell_type": "code",
   "execution_count": null,
   "metadata": {},
   "outputs": [],
   "source": [
    "print(plt.style.available)"
   ]
  },
  {
   "cell_type": "markdown",
   "metadata": {},
   "source": [
    "You can use a style globally with `plt.style.use(name)` where `name` can be one of these names, or a file path. You can set multiple styles; a style may not change everything available.\n",
    "\n",
    "You can also set the style temporarily using a context manager (the `with` statement):"
   ]
  },
  {
   "cell_type": "code",
   "execution_count": null,
   "metadata": {},
   "outputs": [],
   "source": [
    "for style in plt.style.available[:2]:\n",
    "    with plt.style.context(style):\n",
    "        print(style)\n",
    "        plt.figure()\n",
    "        plt.plot(x,y)\n",
    "        plt.show()"
   ]
  },
  {
   "cell_type": "markdown",
   "metadata": {},
   "source": [
    "Writing a style file is simple, but probably not as useful for a quick plot or small changes. There are lots of ways:\n",
    "\n",
    "* `matplotlib.rcParams` is a dictionary(-like) structure you can access like a dictionary\n",
    "* `matplotlib.rc()` is a weird function that makes it \"easy\" to save typing a few characters at great expense. (Can you tell my bias?)\n",
    "* Either `matplotlib.rcdefaults()` or `matplotlib.rcParamsDefaults` has the original defaults.\n",
    "\n",
    "There are lots of ways to work with a dictionary structure, as well:"
   ]
  },
  {
   "cell_type": "code",
   "execution_count": null,
   "metadata": {},
   "outputs": [],
   "source": [
    "import matplotlib as mpl\n",
    "mpl.rcParams['axes.labelcolor'] = 'green'"
   ]
  },
  {
   "cell_type": "code",
   "execution_count": null,
   "metadata": {},
   "outputs": [],
   "source": [
    "plt.plot(x,y)\n",
    "plt.xlabel('This');"
   ]
  },
  {
   "cell_type": "markdown",
   "metadata": {},
   "source": [
    "A better way?"
   ]
  },
  {
   "cell_type": "code",
   "execution_count": null,
   "metadata": {},
   "outputs": [],
   "source": [
    "my_settings = {\n",
    "    'axes.labelcolor': 'yellow'\n",
    "}\n",
    "\n",
    "mpl.rcParams.update(my_settings)"
   ]
  },
  {
   "cell_type": "code",
   "execution_count": null,
   "metadata": {},
   "outputs": [],
   "source": [
    "plt.plot(x,y)\n",
    "plt.xlabel('This');"
   ]
  },
  {
   "cell_type": "markdown",
   "metadata": {},
   "source": [
    "You can also set colors inline. Be careful; you are mixing function (the plot) and style (the colors, in this case). It is usually better to specify the two clearly separated, but this does have uses:"
   ]
  },
  {
   "cell_type": "code",
   "execution_count": null,
   "metadata": {},
   "outputs": [],
   "source": [
    "plt.plot(x,y)\n",
    "plt.xlabel(\"That\", color='blue');"
   ]
  },
  {
   "cell_type": "markdown",
   "metadata": {},
   "source": [
    "One exception: Colors of the lines. Normal matplotlib does *not* set this with one color, but a [cycle of styles](https://matplotlib.org/tutorials/intermediate/color_cycle.html)! So this is often easier to set inline using a custom \"format string\":"
   ]
  },
  {
   "cell_type": "code",
   "execution_count": null,
   "metadata": {},
   "outputs": [],
   "source": [
    "plt.plot(x, y, 'r.')"
   ]
  },
  {
   "cell_type": "markdown",
   "metadata": {},
   "source": [
    "Overall, matplotlib is not as beautiful to write code for as some of the flashy new tools, but it is powerful and mature, with lots of backends - you should at least know how to use it."
   ]
  },
  {
   "cell_type": "markdown",
   "metadata": {},
   "source": [
    "## Example: A plotting function"
   ]
  },
  {
   "cell_type": "code",
   "execution_count": null,
   "metadata": {},
   "outputs": [],
   "source": [
    "def circle_plot(radius=1.0, ax=None):\n",
    "    if ax is None:\n",
    "        fig, ax = plt.subplots()\n",
    "        \n",
    "    vs = np.linspace(0, np.pi*2, 200)\n",
    "    xs = np.sin(vs)*radius\n",
    "    ys = np.cos(vs)*radius\n",
    "    \n",
    "    return ax.plot(xs, ys)"
   ]
  },
  {
   "cell_type": "code",
   "execution_count": null,
   "metadata": {},
   "outputs": [],
   "source": [
    "fig, ax = plt.subplots()\n",
    "circle_plot(1.0, ax=ax)\n",
    "circle_plot(1.5, ax=ax)\n",
    "circle_plot(2.0, ax=ax)\n",
    "ax.set_aspect('equal')\n",
    "plt.show()"
   ]
  },
  {
   "cell_type": "code",
   "execution_count": null,
   "metadata": {},
   "outputs": [],
   "source": [
    "fig, axs = plt.subplots(1,2)\n",
    "circle_plot(1.0, ax=axs[0])\n",
    "circle_plot(2.0, ax=axs[1])\n",
    "for ax in axs:\n",
    "    ax.set_aspect('equal')\n",
    "plt.show()"
   ]
  },
  {
   "cell_type": "markdown",
   "metadata": {},
   "source": [
    "## Example: 3D\n",
    "\n"
   ]
  },
  {
   "cell_type": "code",
   "execution_count": null,
   "metadata": {},
   "outputs": [],
   "source": [
    "# Included with matplotlib\n",
    "from mpl_toolkits import mplot3d"
   ]
  },
  {
   "cell_type": "code",
   "execution_count": null,
   "metadata": {},
   "outputs": [],
   "source": [
    "X, Y = np.mgrid[-3:3:20j, -3:3:20j]\n",
    "Z = np.sin(X) * np.sin(Y)"
   ]
  },
  {
   "cell_type": "code",
   "execution_count": null,
   "metadata": {},
   "outputs": [],
   "source": [
    "fig = plt.figure(figsize=(10,5))\n",
    "ax = plt.axes(projection='3d')\n",
    "ax.plot_surface(X, Y, Z)"
   ]
  },
  {
   "cell_type": "markdown",
   "metadata": {},
   "source": [
    "## Example: dual axes and styles"
   ]
  },
  {
   "cell_type": "code",
   "execution_count": null,
   "metadata": {},
   "outputs": [],
   "source": [
    "fig, ax_left = plt.subplots()\n",
    "ax_right = ax_left.twinx()\n",
    "\n",
    "ax_left.plot(x, np.sin(x/2), 'r')\n",
    "ax_right.plot(x, np.cos(x/4)*2, 'g')\n",
    "\n",
    "ax_left.set_ylabel('sin(x/2)', color='r')\n",
    "ax_left.tick_params('y', colors='r')\n",
    "\n",
    "ax_right.set_ylabel('2 cos(x/4)', color='g')\n",
    "ax_right.tick_params('y', colors='g')\n",
    "\n",
    "plt.show()"
   ]
  },
  {
   "cell_type": "code",
   "execution_count": null,
   "metadata": {},
   "outputs": [],
   "source": []
  }
 ],
 "metadata": {
  "kernelspec": {
   "display_name": "Anaconda Python 3.6",
   "language": "python",
   "name": "sys_python36"
  },
  "language_info": {
   "codemirror_mode": {
    "name": "ipython",
    "version": 3
   },
   "file_extension": ".py",
   "mimetype": "text/x-python",
   "name": "python",
   "nbconvert_exporter": "python",
   "pygments_lexer": "ipython3",
   "version": "3.6.5"
  }
 },
 "nbformat": 4,
 "nbformat_minor": 2
}
