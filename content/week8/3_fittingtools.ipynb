{
 "cells": [
  {
   "cell_type": "markdown",
   "metadata": {},
   "source": [
    "# Week 8 Day 3: Fitting tools\n",
    "\n",
    "## Objectives:\n",
    "* Look again at fitting tools\n",
    "* Set up a project in git (review of git, project structure)"
   ]
  },
  {
   "cell_type": "markdown",
   "metadata": {},
   "source": [
    "### Note about crash last time!\n",
    "\n",
    "GooFit and LmFit both seem to have compiled code that expects OpenMP - and at least on my Mac, they were linked with different OpenMP libraries (Anaconda's Intel libomp for LmFit, and HomeBrew's libomp for GooFit). So that's why it crashed. I've reinstalled GooFit without OpenMP for now."
   ]
  },
  {
   "cell_type": "markdown",
   "metadata": {},
   "source": [
    "### GooFit\n",
    "\n",
    "If you really want to try GooFit, you can try this on OSC:\n",
    "    \n",
    "```\n",
    "!pip install --user scikit-build cmake\n",
    "!PATH=$HOME/.local/bin:$PATH pip install --user --verbose goofit\n",
    "```\n",
    "\n",
    "The extra requirements here are partially to ensure it gets the highest level of optimization, and partially requirements that will eventually go away.\n",
    "\n",
    "If you are on macOS, scikit-build is broken, you'll need `!pip install scikit-build==0.6.1`."
   ]
  },
  {
   "cell_type": "code",
   "execution_count": 1,
   "metadata": {},
   "outputs": [],
   "source": [
    "from scipy.stats import norm, multivariate_normal\n",
    "import matplotlib.pyplot as plt\n",
    "import numpy as np"
   ]
  },
  {
   "cell_type": "markdown",
   "metadata": {},
   "source": [
    "#### Prepare data\n",
    "\n",
    "We'll be making a set of data out of a Gaussian + linear."
   ]
  },
  {
   "cell_type": "code",
   "execution_count": 2,
   "metadata": {},
   "outputs": [],
   "source": [
    "state = np.random.RandomState(42)\n",
    "gauss_part = state.normal(1,2,size=100_000)\n",
    "lin_part = state.uniform(low=-10,high=10,size=50_000)\n",
    "total_rand = np.concatenate([gauss_part, lin_part])"
   ]
  },
  {
   "cell_type": "code",
   "execution_count": 3,
   "metadata": {},
   "outputs": [],
   "source": [
    "import goofit"
   ]
  },
  {
   "cell_type": "markdown",
   "metadata": {},
   "source": [
    "We need an observable, with a range from -10 to 10."
   ]
  },
  {
   "cell_type": "code",
   "execution_count": 4,
   "metadata": {},
   "outputs": [],
   "source": [
    "x = goofit.Observable('x', -10, 10)"
   ]
  },
  {
   "cell_type": "markdown",
   "metadata": {},
   "source": [
    "We can make an unbinned (or binned) dataset; we need to list the variables it will contain."
   ]
  },
  {
   "cell_type": "code",
   "execution_count": 5,
   "metadata": {},
   "outputs": [],
   "source": [
    "data = goofit.UnbinnedDataSet(x)"
   ]
  },
  {
   "cell_type": "markdown",
   "metadata": {},
   "source": [
    "Let's read in data. GooFit will default to throwing an error if you input a value that is outside the range (-10 to 10 in this case), but we can pass `filter=True` to simply ignore those values instead."
   ]
  },
  {
   "cell_type": "code",
   "execution_count": 6,
   "metadata": {},
   "outputs": [],
   "source": [
    "data.from_matrix([total_rand], filter=True)"
   ]
  },
  {
   "cell_type": "markdown",
   "metadata": {},
   "source": [
    "If you display a PDF in the notebook, you get a nice pretty-printed version of it's documentation:"
   ]
  },
  {
   "cell_type": "code",
   "execution_count": 7,
   "metadata": {},
   "outputs": [
    {
     "data": {
      "text/markdown": [
       "\n",
       "If the Gaussian is the potato, what is the\n",
       "polynomial? Bread? Milk? Nothing exotic, at any rate. The GooFit\n",
       "version does have some subtleties, to allow for polynomials over an\n",
       "arbitrary number[^1] of dimensions:\n",
       "\n",
       "$$\n",
       "    P(\\vec x; \\vec a, \\vec x_0, N) =\n",
       "    \\sum\\limits_{p_1+p_2+\\ldots+p_n \\le N} a_{p_1p_2\\ldots p_n} \\prod\\limits_{i=1}^n (\\vec x - \\vec x_0)_i^{p_i}\n",
       "$$\n",
       "\n",
       "where $N$ is the highest degree of the polynomial and $n$ is the\n",
       "number of dimensions. The constructor takes a `vector` of\n",
       "observables, denoted $\\vec x$ above; a `vector` of coefficients,\n",
       "$\\vec a$, a `vector` of optional offsets $\\vec x_0$ (if not\n",
       "specified, these default to zero), and the maximum degree $N$. The\n",
       "coefficients are in the order\n",
       "$a_{p_0p_0\\ldots p_0}, a_{p_1p_0\\ldots p_0}, \\ldots a_{p_Np_0\\ldots p_0}, a_{p_0p_1\\ldots p_0}, a_{p_1p_1\\ldots p_0},\n",
       "\\ldots a_{p_0p_0\\ldots p_N}$. In other words, start at the index for\n",
       "the constant term, and increment the power of the leftmost\n",
       "observable. Every time the sum of the powers reaches $N$, reset the\n",
       "leftmost power to zero and increment the next-leftmost. When the\n",
       "next-leftmost reaches $N$, reset it to zero and increment the\n",
       "third-leftmost, and so on.\n",
       "\n",
       "An example may be helpful; for two\n",
       "dimensions $x$ and $y$, and a maximum power of 3, the order is\n",
       "$a_{00}, a_{10}, a_{20}, a_{30}, a_{01}, a_{11}, a_{21}, a_{02}, a_{12}, a_{03}$.\n",
       "This can be visualised as picking boxes out of a matrix and\n",
       "discarding the ones where the powers exceed the maximum:\n",
       "\n",
       "$$\n",
       "\\begin{array}{cccc}\n",
       "    9: x^0y^3 &    -      &    -      &    -      \\\\\n",
       "    7: x^0y^2 & 8: x^1y^2 &    -      &    -      \\\\\n",
       "    4: x^0y^1 & 5: x^1y^1 & 6: x^2y^1 &    -      \\\\\n",
       "    0: x^0y^0 & 1: x^1y^0 & 2: x^2y^0 & 3: x^3y^0 \\\\\n",
       "\\end{array}\n",
       "$$\n",
       "\n",
       "starting in the lower-lefthand corner and going right,\n",
       "then up.\n",
       "\n",
       "There is also a simpler version of the constructor for the case of a\n",
       "polynomial with only one dimension; it takes the observable, a\n",
       "`vector` of coefficients, an optional offset, and the lowest (not\n",
       "highest) degree of the polynomial; the latter two both default to\n",
       "zero. In this case the order of the coefficients is from lowest to\n",
       "highest power.\n",
       "\n",
       "[^1]: Although being honest, just supporting the special cases of one and two would likely have\n",
       "sufficed.\n"
      ],
      "text/plain": [
       "goofit._goofit.PolynomialPdf"
      ]
     },
     "execution_count": 7,
     "metadata": {},
     "output_type": "execute_result"
    }
   ],
   "source": [
    "goofit.PolynomialPdf"
   ]
  },
  {
   "cell_type": "markdown",
   "metadata": {},
   "source": [
    "The fitting variables and PDFs need to be setup next."
   ]
  },
  {
   "cell_type": "code",
   "execution_count": 12,
   "metadata": {},
   "outputs": [],
   "source": [
    "a = goofit.Variable(\"a\", 0, 0, 1)\n",
    "linear = goofit.PolynomialPdf('linear', x, [a])"
   ]
  },
  {
   "cell_type": "code",
   "execution_count": 13,
   "metadata": {},
   "outputs": [],
   "source": [
    "mu = goofit.Variable('mu', 0, -10, 10)\n",
    "sigma = goofit.Variable('sigma', 1, 0, 5)\n",
    "gauss = goofit.GaussianPdf('gauss', x, mu, sigma)"
   ]
  },
  {
   "cell_type": "markdown",
   "metadata": {},
   "source": [
    "We can add multiple PDFs with fractions for each"
   ]
  },
  {
   "cell_type": "code",
   "execution_count": 14,
   "metadata": {},
   "outputs": [],
   "source": [
    "frac = goofit.Variable('frac', .5, 0, 1)\n",
    "total = goofit.AddPdf('tot', [frac], [gauss, linear])"
   ]
  },
  {
   "cell_type": "markdown",
   "metadata": {},
   "source": [
    "And, we can fit a PDF to data:"
   ]
  },
  {
   "cell_type": "code",
   "execution_count": 17,
   "metadata": {},
   "outputs": [
    {
     "name": "stdout",
     "output_type": "stream",
     "text": [
      "MnSeedGenerator: for initial parameters FCN = 792731.9490078\n",
      "MnSeedGenerator: Initial state:   - FCN =   792731.9490078 Edm =  2.75471e-07 NCalls =     11\n",
      "VariableMetric: start iterating until Edm is < 0.0001\n",
      "VariableMetric: Initial state   - FCN =   792731.9490078 Edm =  2.75471e-07 NCalls =     11\n",
      "VariableMetric: Iteration #   0 - FCN =   792731.9490078 Edm =  2.75471e-07 NCalls =     11\n",
      "VariableMetric: Iteration #   1 - FCN =   792731.9490076 Edm =  3.47085e-08 NCalls =     29\n",
      "VariableMetric: After Hessian   - FCN =   792731.9490076 Edm =  1.66602e-07 NCalls =     58\n",
      "VariableMetric: Iteration #   2 - FCN =   792731.9490076 Edm =  1.66602e-07 NCalls =     58\n",
      "\n",
      "Minuit did successfully converge.\n",
      "# of function calls: 58\n",
      "minimum function Value: 792731.9490076\n",
      "minimum edm: 1.666017012339e-07\n",
      "minimum internal state vector: LAVector parameters:\n",
      "      0.342086249273\n",
      "     0.1005457327798\n",
      "    -0.1996604114174\n",
      "     -1.568843200648\n",
      "\n",
      "minimum internal covariance matrix: LASymMatrix parameters:\n",
      "  2.0225379e-05  1.3035835e-08  6.9569519e-06 -1.3784524e-11\n",
      "  1.3035835e-08  6.3997567e-07  1.4520357e-08  -2.077118e-14\n",
      "  6.9569519e-06  1.4520357e-08  9.7543801e-06 -1.3459976e-11\n",
      " -1.3784524e-11  -2.077118e-14 -1.3459976e-11       3.999992\n",
      "\n",
      "\n",
      "# ext. ||   Name    ||   type  ||     Value     ||  Error +/- \n",
      "\n",
      "   0   ||      frac || limited ||     0.6677265931046 ||0.001497889336804\n",
      "   1   ||        mu || limited ||      1.003764081425 ||0.005628177206305\n",
      "   2   ||     sigma || limited ||      2.004158750185 ||0.0054114038298\n",
      "   3   ||         a || limited ||  9.536751331418e-07 ||0.7105310171445\n",
      "\n",
      "\n",
      "\n",
      "\n",
      "The minimization took: 877.48 ms\n",
      "Average time per call: 15.143 ms\n"
     ]
    }
   ],
   "source": [
    "minimum = total.fitTo(data)"
   ]
  },
  {
   "cell_type": "markdown",
   "metadata": {},
   "source": [
    "The variables are changed in place (mutated):"
   ]
  },
  {
   "cell_type": "code",
   "execution_count": 18,
   "metadata": {},
   "outputs": [
    {
     "name": "stdout",
     "output_type": "stream",
     "text": [
      "frac: 0.667727 +/- 0.00149789 [0, 1] Fitter index: 0\n"
     ]
    }
   ],
   "source": [
    "print(frac)"
   ]
  },
  {
   "cell_type": "markdown",
   "metadata": {},
   "source": [
    "Let's look at a plot."
   ]
  },
  {
   "cell_type": "code",
   "execution_count": 19,
   "metadata": {},
   "outputs": [],
   "source": [
    "grid, pts = total.evaluatePdf(x)\n",
    "xvals = grid.to_numpy().flatten()"
   ]
  },
  {
   "cell_type": "code",
   "execution_count": 20,
   "metadata": {},
   "outputs": [
    {
     "data": {
      "image/png": "[encoded data removed]",
      "text/plain": [
       "<Figure size 432x288 with 1 Axes>"
      ]
     },
     "metadata": {
      "image/png": {
       "height": 250,
       "width": 393
      },
      "needs_background": "light"
     },
     "output_type": "display_data"
    }
   ],
   "source": [
    "fig, ax = plt.subplots(figsize=(6, 4))\n",
    "ax.hist(total_rand, bins=50, range=(-10,10), density=True)\n",
    "ax.plot(xvals, pts, linewidth=2)\n",
    "#ax.set_xlabel('xvar')\n",
    "ax.set_ylabel('Normalized probability')\n",
    "ax.set_ylim(ymin=0)\n",
    "plt.show()"
   ]
  },
  {
   "cell_type": "code",
   "execution_count": null,
   "metadata": {},
   "outputs": [],
   "source": []
  }
 ],
 "metadata": {
  "kernelspec": {
   "display_name": "Mimic OSC",
   "language": "python",
   "name": "sys_python36"
  },
  "language_info": {
   "codemirror_mode": {
    "name": "ipython",
    "version": 3
   },
   "file_extension": ".py",
   "mimetype": "text/x-python",
   "name": "python",
   "nbconvert_exporter": "python",
   "pygments_lexer": "ipython3",
   "version": "3.7.0"
  }
 },
 "nbformat": 4,
 "nbformat_minor": 2
}
