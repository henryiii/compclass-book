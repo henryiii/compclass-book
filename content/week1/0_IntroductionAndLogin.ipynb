{
 "cells": [
  {
   "cell_type": "markdown",
   "metadata": {
    "slideshow": {
     "slide_type": "slide"
    }
   },
   "source": [
    "# PHYS 5041/6041: Computational Physics\n",
    "## Henry Schreiner\n",
    "\n",
    "## Objectives:\n",
    "* Go over the syllabus\n",
    "* Log in to OSC and/or install Anaconda locally\n",
    "* Introduction to Jupyter Notebooks (new notebook)"
   ]
  },
  {
   "cell_type": "markdown",
   "metadata": {
    "slideshow": {
     "slide_type": "slide"
    }
   },
   "source": [
    "# Syllabus\n",
    "\n",
    "Available at <https://homepages.uc.edu/~schreihf/uchenry/post/computational-physics/>\n",
    "\n",
    "* Lectures via WebEx\n",
    "* Assignments available on Blackboard <https://canopy.uc.edu>\n",
    "* Class files on GitHub <https://github.com/henryiii/compclass>\n",
    "    * Lecture files are interactive, and downloadable\n",
    "    * Project assignments are also notebooks"
   ]
  },
  {
   "cell_type": "markdown",
   "metadata": {
    "slideshow": {
     "slide_type": "slide"
    }
   },
   "source": [
    "# Computing\n",
    "\n",
    "We will be using Python 3.6 and common scientific packages. Two install choices:\n",
    "\n",
    "* OSC OnDemand\n",
    "* Local install with the [Anaconda Scientific Python Distribution](https://www.anaconda.com/distribution/)"
   ]
  },
  {
   "cell_type": "markdown",
   "metadata": {
    "slideshow": {
     "slide_type": "subslide"
    }
   },
   "source": [
    "# OSC OnDemand\n",
    "\n",
    "* Go to <https://ondemand.osc.edu>\n",
    "* Log in (instructions posted on Blackboard)\n",
    "* At the top, click `Interactive Apps` -> `Jupyter Notebook`\n",
    "* The default (minimal) settings are perfect\n",
    "   - Our project is PES0765\n",
    "* Click `Launch`\n",
    "\n",
    "The browser based notebook should start in 1-3 minutes."
   ]
  },
  {
   "cell_type": "markdown",
   "metadata": {
    "slideshow": {
     "slide_type": "subslide"
    }
   },
   "source": [
    "# Local install\n",
    "\n",
    "1. Download Anaconda from <https://anaconda.com>\n",
    "2. Install the latest Python 3 version (3.6 at time of writing, 3.7 is still being worked on in Anaconda)\n",
    "    - Either say 'yes' to the question about adding to your path, or add it manually\n",
    "3. Launch a Jupyter notebook from the *Anaconda Navigator*"
   ]
  },
  {
   "cell_type": "markdown",
   "metadata": {
    "slideshow": {
     "slide_type": "subslide"
    }
   },
   "source": [
    "> #### Note\n",
    "> Why not use official Python from python.org or my package manager?\n",
    "> \n",
    "> The official builds are great, but you'll have to install all the packages yourself. Also, if it is a Python that is built into your system, you could break things by changing your packages. For now, using the Anaconda build provides you with everything you need, is safe for your system, and some packages are easier to install. There are special cases outside of this class where you might not want Anaconda Python, so talk to me if you think that might be the case."
   ]
  },
  {
   "cell_type": "markdown",
   "metadata": {
    "slideshow": {
     "slide_type": "slide"
    }
   },
   "source": [
    "# Topics for later\n",
    "\n",
    "Most courses spend a little (too little) time on these topics just to get started using Python. We are going to skip them for now, then return to them later in the course when we can focus our attention properly on them:\n",
    "\n",
    "* Using the shell (Bash)\n",
    "* Manipulating your path\n",
    "* Installing Python packages\n",
    "* Using git"
   ]
  }
 ],
 "metadata": {
  "kernelspec": {
   "display_name": "Anaconda Python 3.6",
   "language": "python",
   "name": "sys_python36"
  },
  "language_info": {
   "codemirror_mode": {
    "name": "ipython",
    "version": 3
   },
   "file_extension": ".py",
   "mimetype": "text/x-python",
   "name": "python",
   "nbconvert_exporter": "python",
   "pygments_lexer": "ipython3",
   "version": "3.6.5"
  }
 },
 "nbformat": 4,
 "nbformat_minor": 2
}
